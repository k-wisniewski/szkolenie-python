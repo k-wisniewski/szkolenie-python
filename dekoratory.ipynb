{
 "cells": [
  {
   "cell_type": "markdown",
   "id": "6c2a2b64",
   "metadata": {},
   "source": [
    "## Dekoratory\n",
    "Dekoratory umożliwiaja dodawanie funkcjonalności do już istniejących funkcji bez modyfikacji ich treści. Dzięki temu można w łatwy sposób zenkapsulować wspólną, powtarzalną część funkcjonalności, tak by treść funkcji mogła skupić się na tym, co faktycznie jest celem jej istnienia. Np. do dekoratora można wynieść funkcjonalność logowania, mierzenia czasu wykonania etc. Podstawowa struktura dekoratorów wygląda tak:"
   ]
  },
  {
   "cell_type": "code",
   "execution_count": null,
   "id": "1d98d6db",
   "metadata": {},
   "outputs": [],
   "source": [
    "def logger(f):\n",
    "    print(a)\n",
    "    def with_logger(*args, **kwargs):\n",
    "        print(f\"running function {f.__name__}{args}\")\n",
    "        return f(*args, **kwargs)\n",
    "    return with_logger\n",
    "\n",
    "@logger\n",
    "def multiplier(a, b):\n",
    "    return a + b\n",
    "\n",
    "multiplier(4,5)\n",
    "#print(multiplier.__name__)"
   ]
  },
  {
   "cell_type": "markdown",
   "id": "0f4c4987",
   "metadata": {},
   "source": [
    "Jak widać mimo, że wołaliśmy funkcję `multiplier` w rzeczywistości została ona \"opakowana funkcją `with_logger`, która dodała funkcjonlaność wypisywania na ekranie nazwy funkcji opakowywanej i jej argumentów. Jedyny problem polega na tym, że nazwa i docstring `multipliera` został zastąpiony przez `with_logger`. Aby temu zaradzić, można użyć dekoratora `wraps` z biblioteki `functools`:"
   ]
  },
  {
   "cell_type": "code",
   "execution_count": null,
   "id": "060ea231",
   "metadata": {},
   "outputs": [],
   "source": [
    "import functools\n",
    "\n",
    "def logger(f):\n",
    "    @functools.wraps(f)\n",
    "    def with_logger(*args, **kwargs):\n",
    "        print(f\"running function {f.__name__}{args}\")\n",
    "        return f(*args, **kwargs)\n",
    "    return with_logger\n",
    "\n",
    "@logger\n",
    "def multiplier(a, b):\n",
    "    return a * b\n",
    "\n",
    "multiplier(4,5)\n",
    "print(multiplier.__name__)"
   ]
  },
  {
   "cell_type": "markdown",
   "id": "6558d89f",
   "metadata": {},
   "source": [
    "Więcej informacji [tu](https://stackoverflow.com/questions/308999/what-does-functools-wraps-do)"
   ]
  }
 ],
 "metadata": {
  "kernelspec": {
   "display_name": "Python 3 (ipykernel)",
   "language": "python",
   "name": "python3"
  },
  "language_info": {
   "codemirror_mode": {
    "name": "ipython",
    "version": 3
   },
   "file_extension": ".py",
   "mimetype": "text/x-python",
   "name": "python",
   "nbconvert_exporter": "python",
   "pygments_lexer": "ipython3",
   "version": "3.10.0"
  }
 },
 "nbformat": 4,
 "nbformat_minor": 5
}
