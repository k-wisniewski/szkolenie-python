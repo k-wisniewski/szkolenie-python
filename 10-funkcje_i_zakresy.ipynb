{
 "cells": [
  {
   "cell_type": "markdown",
   "id": "ad7dc6d6",
   "metadata": {
    "pycharm": {
     "name": "#%% md\n"
    }
   },
   "source": [
    "# Funkcje\n",
    "Funkcje umożliwiają wielokrotne wykonywanie pewnego bloku kodu i parametryzowanie go przy użyciu argumentów. Są podstawowym mechanizmem abstrakcji w języku, a definiuje się je i wywołuje tak:"
   ]
  },
  {
   "cell_type": "code",
   "execution_count": null,
   "id": "9e7d30ad",
   "metadata": {
    "pycharm": {
     "name": "#%%\n"
    }
   },
   "outputs": [],
   "source": [
    "def fma_positive(a, x, b):\n",
    "    if x < 0:\n",
    "        return -1\n",
    "    else:\n",
    "        return a * x + b\n",
    "\n",
    "    \n",
    "fma_positive(3,4,5)"
   ]
  },
  {
   "cell_type": "markdown",
   "id": "fc7436c1",
   "metadata": {
    "pycharm": {
     "name": "#%% md\n"
    }
   },
   "source": [
    "### Domyślne parametry\n",
    "Funkcje mogą brać parametry, których podawanie jest opcjonalne - gdy ich nie ma wykorzystywana jest wartość domyślna:"
   ]
  },
  {
   "cell_type": "code",
   "execution_count": null,
   "id": "e9d97c0d",
   "metadata": {
    "pycharm": {
     "name": "#%%\n"
    }
   },
   "outputs": [],
   "source": [
    "def add3(x, y=3):\n",
    "    return x + y\n",
    "\n",
    "print(add3(2))\n",
    "print(add3(2,4))"
   ]
  },
  {
   "cell_type": "markdown",
   "id": "a2456e72",
   "metadata": {
    "pycharm": {
     "name": "#%% md\n"
    }
   },
   "source": [
    "Parametry domyślne nie mogą mieszać się z parametrami bez wartości domyślnych - muszą być na końcu listy parametrów:"
   ]
  },
  {
   "cell_type": "code",
   "execution_count": null,
   "id": "f6f13a84",
   "metadata": {
    "pycharm": {
     "name": "#%%\n"
    }
   },
   "outputs": [],
   "source": [
    "def do_something(x, z, y=3):\n",
    "    return x + y + z"
   ]
  },
  {
   "cell_type": "markdown",
   "id": "c1f8678a",
   "metadata": {
    "pycharm": {
     "name": "#%% md\n"
    }
   },
   "source": [
    "**Pułapka:** parametry domyślne są ewaluowane raz - w momencie zaimportowania deklaracji funkcji. To może prowadzić do nieintuicyjnych bugów:"
   ]
  },
  {
   "cell_type": "code",
   "execution_count": null,
   "id": "bc746d25",
   "metadata": {
    "pycharm": {
     "name": "#%%\n"
    }
   },
   "outputs": [],
   "source": [
    "def append_multiplied(item, multiplier=2, accumulator=[]):\n",
    "    accumulator.append(multiplier * item)\n",
    "    return accumulator\n",
    "\n",
    "print(append_multiplied(4, accumulator=[1,2]))\n",
    "print(append_multiplied(5))\n",
    "print(append_multiplied(6))\n",
    "print(append_multiplied(7, multiplier=3, accumulator=[9, 8]))"
   ]
  },
  {
   "cell_type": "markdown",
   "id": "7d027911",
   "metadata": {
    "pycharm": {
     "name": "#%% md\n"
    }
   },
   "source": [
    "Bardziej przewidywalna semantyka"
   ]
  },
  {
   "cell_type": "code",
   "execution_count": null,
   "id": "517bdaed",
   "metadata": {
    "pycharm": {
     "name": "#%%\n"
    }
   },
   "outputs": [],
   "source": [
    "def append_multiplied(item, multiplier=2, accumulator=None):\n",
    "    if accumulator is None:\n",
    "        accumulator = []\n",
    "    accumulator.append(multiplier * item)\n",
    "    return accumulator\n",
    "\n",
    "print(append_multiplied(4, accumulator=[1,2]))\n",
    "print(append_multiplied(5))\n",
    "print(append_multiplied(6))\n",
    "print(append_multiplied(7, multiplier=3, accumulator=[9, 8]))"
   ]
  },
  {
   "cell_type": "markdown",
   "id": "cb58fb57",
   "metadata": {
    "pycharm": {
     "name": "#%% md\n"
    }
   },
   "source": [
    "### Semantyka przekazywania argumentów\n",
    "Argumenty proste przekazywane są przez wartość, a obiekty przez referencje, jednak gdy zostaną nadpisane, zachowuja się jak przekazane przez wartość:"
   ]
  },
  {
   "cell_type": "code",
   "execution_count": null,
   "id": "d9c8ddf0",
   "metadata": {
    "pycharm": {
     "name": "#%%\n"
    }
   },
   "outputs": [],
   "source": [
    "def do_something(x, y, k):\n",
    "    k = k+ [5]\n",
    "\n",
    "k=[1,2]\n",
    "do_something(2,3, k)\n",
    "print(k)"
   ]
  },
  {
   "cell_type": "markdown",
   "id": "26ca582e",
   "metadata": {
    "pycharm": {
     "name": "#%% md\n"
    }
   },
   "source": [
    "### Listy i słowniki parametrów\n",
    "Funkcje mogą przyjmować nieznaną w czasie ich deklaracji liczbę parametrów:"
   ]
  },
  {
   "cell_type": "code",
   "execution_count": null,
   "id": "01076a36",
   "metadata": {
    "pycharm": {
     "name": "#%%\n"
    }
   },
   "outputs": [],
   "source": [
    "def do_something(*args):\n",
    "    print(\"-\" * 80)\n",
    "    for arg in args:\n",
    "        print(arg)\n",
    "\n",
    "do_something()\n",
    "do_something(1,2,3)\n",
    "do_something(1,2,3,4,5,6,7,8,9,10)"
   ]
  },
  {
   "cell_type": "markdown",
   "id": "3f6fa6c7",
   "metadata": {
    "pycharm": {
     "name": "#%% md\n"
    }
   },
   "source": [
    "Można też przekazywać parametry nazwane - wówczas są dostępne jako słownik:"
   ]
  },
  {
   "cell_type": "code",
   "execution_count": null,
   "id": "ba7e1c33",
   "metadata": {
    "pycharm": {
     "name": "#%%\n"
    }
   },
   "outputs": [],
   "source": [
    "def do_something(**kwargs):\n",
    "    print(\"-\" * 80)\n",
    "    for k, v in kwargs.items():\n",
    "        print(f\"{k} -> {v}\")\n",
    "\n",
    "do_something()\n",
    "do_something(zwierzak=\"pies\", karma=\"pedigree\", imie=\"Burek\", wiek=5)\n",
    "do_something(multiplier=3, base_data=9999)"
   ]
  },
  {
   "cell_type": "markdown",
   "id": "436b4ef4",
   "metadata": {
    "pycharm": {
     "name": "#%% md\n"
    }
   },
   "source": [
    "Funkcje mogą nawet akceptować parametry w różnej formie:"
   ]
  },
  {
   "cell_type": "code",
   "execution_count": null,
   "id": "1c7a1ec0",
   "metadata": {
    "pycharm": {
     "name": "#%%\n"
    }
   },
   "outputs": [],
   "source": [
    "def do_something(x, y, z, *args, **kwargs):\n",
    "    print(\"-\" * 80)\n",
    "    print(f\"x: {x}\")\n",
    "    print(f\"y: {y}\")\n",
    "    print(f\"z: {z}\")\n",
    "    for i, arg in enumerate(args):\n",
    "        print(f\"{i + 4}th argument is {arg}\")\n",
    "    for k, v in kwargs.items():\n",
    "        print(f\"{k} -> {v}\")\n",
    "\n",
    "do_something(1,2,3)\n",
    "do_something(1,2,3,4,5)\n",
    "do_something(1,2,3,4,k=3)"
   ]
  },
  {
   "cell_type": "markdown",
   "id": "0edd419b",
   "metadata": {
    "pycharm": {
     "name": "#%% md\n"
    }
   },
   "source": [
    "Możliwe jest również rozpakowywanie listy do parametrów pozycyjnych:"
   ]
  },
  {
   "cell_type": "code",
   "execution_count": null,
   "id": "eeb4fbf0",
   "metadata": {
    "pycharm": {
     "name": "#%%\n"
    }
   },
   "outputs": [],
   "source": [
    "def do_something(w, x, y, z):\n",
    "    print(\"-\" * 80)\n",
    "    print(f\"w: {w}\")\n",
    "    print(f\"x: {x}\")\n",
    "    print(f\"y: {y}\")\n",
    "    print(f\"z: {z}\")\n",
    "\n",
    "do_something(*[1,2,3,4])\n",
    "do_something(1, *[2,3,4])\n",
    "do_something(1, 2, *[3,4])"
   ]
  },
  {
   "cell_type": "markdown",
   "id": "623736f9",
   "metadata": {
    "pycharm": {
     "name": "#%% md\n"
    }
   },
   "source": [
    "Oraz słowników do parametrów nazwanych - trzeba jedynie pamiętać, że jeśli podajemy argumenty pozycyjnie, to zawsze pozycyjne muszą być na początku:"
   ]
  },
  {
   "cell_type": "code",
   "execution_count": null,
   "id": "5f9b38e2",
   "metadata": {
    "pycharm": {
     "name": "#%%\n"
    }
   },
   "outputs": [],
   "source": [
    "def do_something(w, x, y, z):\n",
    "    print(\"-\" * 80)\n",
    "    print(f\"w: {w}\")\n",
    "    print(f\"x: {x}\")\n",
    "    print(f\"y: {y}\")\n",
    "    print(f\"z: {z}\")\n",
    "\n",
    "do_something(**{\"w\": 1, \"z\": 2, \"x\": 3, \"y\": 4})\n",
    "do_something(1, **{\"z\": 2, \"x\": 3, \"y\": 4})\n",
    "do_something(1, *[2], **{\"z\": 3, \"y\": 4})"
   ]
  },
  {
   "cell_type": "markdown",
   "id": "386fd85b",
   "metadata": {
    "pycharm": {
     "name": "#%% md\n"
    }
   },
   "source": [
    "Przykładem zastosowania dla tej konstrukcji są np. dekoratory o których wkrótce."
   ]
  },
  {
   "cell_type": "markdown",
   "id": "d89b8901",
   "metadata": {
    "pycharm": {
     "name": "#%% md\n"
    }
   },
   "source": [
    "### Zagnieżdżone funkcje\n",
    "Funkcje można zagnieżdżać - wówczas wewnętrzna ma dostęp do bytów zdefiniowanych w zakresie funkcji zewnętrznej:"
   ]
  },
  {
   "cell_type": "code",
   "execution_count": null,
   "id": "0650c9f7",
   "metadata": {
    "pycharm": {
     "name": "#%%\n"
    }
   },
   "outputs": [],
   "source": [
    "def partial_apply(x, f):\n",
    "    print(x)\n",
    "    def inner(y):\n",
    "        return f(x, y)\n",
    "    return inner\n",
    "\n",
    "# inner(5)\n",
    "g = partial_apply(3, print)\n",
    "g2 = partial_apply(2, print)\n",
    "g(y=3)\n",
    "g2(y=3)"
   ]
  },
  {
   "cell_type": "markdown",
   "id": "1e4738a0",
   "metadata": {
    "pycharm": {
     "name": "#%% md\n"
    }
   },
   "source": [
    "### Parametry nazwane\n",
    "Parametry funkcji mogą być przekazywane pozycyjnie, czyli w kolejności deklaracji w sygnaturze funkcji, oraz jako parametry nazwane, niekoniecznie zachowując kolejność:"
   ]
  },
  {
   "cell_type": "code",
   "execution_count": null,
   "id": "f79b9aaa",
   "metadata": {
    "pycharm": {
     "name": "#%%\n"
    }
   },
   "outputs": [],
   "source": [
    "def do_something(x, y, z):\n",
    "    return x + y + z\n",
    "\n",
    "print(do_something(3,4,5))\n",
    "print(do_something(y=4, z=3, x=5))\n",
    "print(do_something(y=13, 100, z=4))"
   ]
  },
  {
   "cell_type": "markdown",
   "id": "d16068e8",
   "metadata": {
    "pycharm": {
     "name": "#%% md\n"
    }
   },
   "source": [
    "### Domknięcia\n",
    "Ponieważ Python pozwala na definiowanie zagnieżdżonych funkcji, możliwe jest tworzenie domknięć, a co za tym idzie enkapsulowanie środowiska z momentu definicji funkcji, które w innych warunkach nie byłoby dostepne w momencie wywołania, np.:"
   ]
  },
  {
   "cell_type": "code",
   "execution_count": null,
   "id": "46c848b4",
   "metadata": {
    "pycharm": {
     "name": "#%%\n"
    }
   },
   "outputs": [],
   "source": [
    "def partially_apply(f, *args):\n",
    "    def applied(*args2):\n",
    "        all_args = list(args)\n",
    "        all_args.extend(args2)\n",
    "        return f(*all_args)\n",
    "    return applied\n",
    "g = partially_apply(print, 5, 10)\n",
    "g(6,7,9,8)\n",
    "g(\"other\")\n",
    "g({\"a\": 5})"
   ]
  },
  {
   "cell_type": "markdown",
   "id": "cf06b450",
   "metadata": {
    "pycharm": {
     "name": "#%% md\n"
    }
   },
   "source": [
    "### Reguła LEGB\n",
    "W Pythonie dostępne są następujące zakresy widoczności nazw:\n",
    "- **Local** - zakres widoczności nazw wewnątrz wykonywanej funkcji - tworzony na nowo przy każdym uruchomieniu funkcji\n",
    "- **Enclosing** - zakres widoczności dostępny tylko dla zagnieżdżonych funkcji, obejmujący nieprzesłonięte nazwy z funkcji zewnętrznej - przypisania z wewnątrz zagnieżdżonej funkcji zmiennych z funkcji otaczających są możliwe po zadeklarowaniu danej zmiennej jako `nonlocal`\n",
    "- **Global** - globalny zakres widoczności, dostępny zewsząd. Uwaga! Przypisania z wewnątrz funkcji wymagają dodania `global` - inaczej powstanie nowa zmienna o lokalnym zasięgu, która przysłoni globalną!\n",
    "- **Built-in** - wbudowany zakres widoczności nazw obejmujący słowa kluczowe Pythona i wszystkie wbudowane funkcje i klasy, np.: `len`"
   ]
  },
  {
   "cell_type": "code",
   "execution_count": null,
   "id": "3913adf8",
   "metadata": {
    "pycharm": {
     "name": "#%%\n"
    }
   },
   "outputs": [],
   "source": [
    "def f():\n",
    "    x, y, z = 3, \"coś\", []\n",
    "    print(dir())\n",
    "f()\n",
    "\n",
    "print(80 * \"*\")\n",
    "dir()"
   ]
  },
  {
   "cell_type": "markdown",
   "id": "291eba36",
   "metadata": {
    "pycharm": {
     "name": "#%% md\n"
    }
   },
   "source": [
    "Można sięgać do otaczających zakresów widoczności nazw - służą do tego słowa kluczowe `global` i `nonlocal`:"
   ]
  },
  {
   "cell_type": "code",
   "execution_count": null,
   "id": "b1f7585f",
   "metadata": {
    "pycharm": {
     "name": "#%%\n"
    }
   },
   "outputs": [],
   "source": [
    "x = 5\n",
    "y = 3\n",
    "\n",
    "def f():\n",
    "    x = 3\n",
    "    global y\n",
    "    y = 7\n",
    "    print(f\"x wewnątrz f: {x}\")\n",
    "    print(f\"y wewnątrz f: {y}\")\n",
    "\n",
    "f()\n",
    "print(f\"x na zewnątrz f: {x}\")\n",
    "print(f\"y na zewnątrz f: {y}\")"
   ]
  },
  {
   "cell_type": "code",
   "execution_count": null,
   "id": "ea97391e",
   "metadata": {
    "pycharm": {
     "name": "#%%\n"
    }
   },
   "outputs": [],
   "source": [
    "x = 1\n",
    "def example(f):\n",
    "    print(f\"podano {f.__name__}\")\n",
    "    x = 3\n",
    "    print(f\"przed inner w f: {x}\")\n",
    "    def inner(*args, **kwargs):\n",
    "        nonlocal x\n",
    "        print(f\"pod nonlocal {x}\")\n",
    "        x = f(*args, **kwargs)\n",
    "    inner(5,5)\n",
    "    print(f\"po inner w f: {x}\")\n",
    "    print(80 * \"*\")\n",
    "\n",
    "print(f\"przed wykonaniem na zewnątrz: {x}\")\n",
    "print(80 * \"*\")\n",
    "\n",
    "from operator import add, mul\n",
    "example(add)\n",
    "#example(mul)\n",
    "\n",
    "print(f\"po wykonaniu na zewnątrz: {x}\")"
   ]
  },
  {
   "cell_type": "markdown",
   "id": "2f404c9f",
   "metadata": {
    "pycharm": {
     "name": "#%% md\n"
    }
   },
   "source": [
    "### *Zadanie*\n",
    "```\n",
    "git checkout task-5\n",
    "git checkout -b my-solution-5\n",
    "```\n",
    "W pliku `infrastructure/traverser_test.py` znajduje się test funkcji `make_traverser`, która jest fabryką funkcji, mogących wylistować podany katalog. Napisz w pliku `infrastucture/traverser.py` implementację tej fabryki, tak by testy nie były modyfikowane:\n",
    "- `make_traverser` powinien zwracać funkcję bezparametrową, która zwróci sekwencję ścieżek do plików w podanym katalogu\n",
    "- zwrócona funkcja powinna zwracać generator ścieżek do plików\n",
    "- generator powinien zwracać wyłącznie pliki, a nie foldery\n",
    "- na koniec nie zapomnij scommitować swoich zmian na swojej gałęzi!"
   ]
  }
 ],
 "metadata": {
  "kernelspec": {
   "display_name": "Python 3 (ipykernel)",
   "language": "python",
   "name": "python3"
  },
  "language_info": {
   "codemirror_mode": {
    "name": "ipython",
    "version": 3
   },
   "file_extension": ".py",
   "mimetype": "text/x-python",
   "name": "python",
   "nbconvert_exporter": "python",
   "pygments_lexer": "ipython3",
   "version": "3.11.4"
  }
 },
 "nbformat": 4,
 "nbformat_minor": 5
}
