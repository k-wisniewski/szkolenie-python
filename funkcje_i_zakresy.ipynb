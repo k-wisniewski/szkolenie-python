{
 "cells": [
  {
   "cell_type": "markdown",
   "id": "d16068e8",
   "metadata": {},
   "source": [
    "### Domknięcia\n",
    "Ponieważ Python pozwala na definiowanie zagnieżdżonych funkcji, możliwe jest tworzenie domknięć, a co za tym idzie enkapsulowanie środowiska z momentu definicji funkcji, które w innych warunkach nie byłoby dostepne w momencie wywołania, np.:"
   ]
  },
  {
   "cell_type": "code",
   "execution_count": null,
   "id": "46c848b4",
   "metadata": {},
   "outputs": [],
   "source": [
    "def partially_apply(f, *args):\n",
    "    def applied(*args2):\n",
    "        all_args = list(args)\n",
    "        all_args.extend(args2)\n",
    "        return f(*all_args)\n",
    "    return applied\n",
    "g = partially_apply(print, 5, 10)\n",
    "g(6,7,9,8)\n",
    "g(\"other\")\n",
    "g({\"a\": 5})"
   ]
  },
  {
   "cell_type": "markdown",
   "id": "cf06b450",
   "metadata": {},
   "source": [
    "### Reguła LEGB\n",
    "W Pythonie dostępne są następujące zakresy widoczności nazw:\n",
    "- **Local** - zakres widoczności nazw wewnątrz wykonywanej funkcji - tworzony na nowo przy każdym uruchomieniu funkcji\n",
    "- **Enclosing** - zakres widoczności dostępny tylko dla zagnieżdżonych funkcji, obejmujący nieprzesłonięte nazwy z funkcji zewnętrznej - przypisania z wewnątrz zagnieżdżonej funkcji zmiennych z funkcji otaczających są możliwe po zadeklarowaniu danej zmiennej jako `nonlocal`\n",
    "- **Global** - globalny zakres widoczności, dostępny zewsząd. Uwaga! Przypisania z wewnątrz funkcji wymagają dodania `global` - inaczej powstanie nowa zmienna o lokalnym zasięgu, która przysłoni globalną!\n",
    "- **Built-in** - wbudowany zakres widoczności nazw obejmujący słowa kluczowe Pythona i wszystkie wbudowane funkcje i klasy, np.: `len`"
   ]
  },
  {
   "cell_type": "code",
   "execution_count": null,
   "id": "3913adf8",
   "metadata": {},
   "outputs": [],
   "source": [
    "def f():\n",
    "    x, y, z = 3, \"coś\", []\n",
    "    print(dir())\n",
    "f()\n",
    "\n",
    "print(80 * \"*\")\n",
    "dir()"
   ]
  },
  {
   "cell_type": "markdown",
   "id": "291eba36",
   "metadata": {},
   "source": [
    "Można sięgać do otaczających zakresów widoczności nazw - służą do tego słowa kluczowe `global` i `nonlocal`:"
   ]
  },
  {
   "cell_type": "code",
   "execution_count": null,
   "id": "b1f7585f",
   "metadata": {},
   "outputs": [],
   "source": [
    "x = 5\n",
    "y = 3\n",
    "\n",
    "def f():\n",
    "    x = 3\n",
    "    global y\n",
    "    y = 7\n",
    "    print(f\"x wewnątrz f: {x}\")\n",
    "    print(f\"y wewnątrz f: {y}\")\n",
    "\n",
    "f()\n",
    "print(f\"x na zewnątrz f: {x}\")\n",
    "print(f\"y na zewnątrz f: {y}\")"
   ]
  },
  {
   "cell_type": "code",
   "execution_count": null,
   "id": "ea97391e",
   "metadata": {},
   "outputs": [],
   "source": [
    "x = 1\n",
    "def example(f):\n",
    "    print(f\"podano {f.__name__}\")\n",
    "    x = 3\n",
    "    print(f\"przed inner w f: {x}\")\n",
    "    def inner(*args, **kwargs):\n",
    "        nonlocal x\n",
    "        print(f\"pod nonlocal {x}\")\n",
    "        x = f(*args, **kwargs)\n",
    "    inner(5,5)\n",
    "    print(f\"po inner w f: {x}\")\n",
    "    print(80 * \"*\")\n",
    "\n",
    "print(f\"przed wykonaniem na zewnątrz: {x}\")\n",
    "print(80 * \"*\")\n",
    "\n",
    "from operator import add, mul\n",
    "example(add)\n",
    "#example(mul)\n",
    "\n",
    "print(f\"po wykonaniu na zewnątrz: {x}\")"
   ]
  },
  {
   "cell_type": "markdown",
   "id": "2f404c9f",
   "metadata": {},
   "source": [
    "### *Zadanie*\n",
    "```\n",
    "git checkout task-5\n",
    "git checkout -b my-solution-5\n",
    "```\n",
    "W pliku `infrastructure/traverser_test.py` znajduje się test funkcji `make_traverser`, która jest fabryką funkcji, mogących wylistować podany katalog. Napisz w pliku `infrastucture/traverser.py` implementację tej fabryki, tak by testy nie były modyfikowane:\n",
    "- `make_traverser` powinien zwracać funkcję bezparametrową, która zwróci sekwencję ścieżek do plików w podanym katalogu\n",
    "- zwrócona funkcja powinna zwracać generator ścieżek do plików\n",
    "- generator powinien zwracać wyłącznie pliki, a nie foldery\n",
    "- na koniec nie zapomnij scommitować swoich zmian na swojej gałęzi!"
   ]
  }
 ],
 "metadata": {
  "kernelspec": {
   "display_name": "Python 3 (ipykernel)",
   "language": "python",
   "name": "python3"
  },
  "language_info": {
   "codemirror_mode": {
    "name": "ipython",
    "version": 3
   },
   "file_extension": ".py",
   "mimetype": "text/x-python",
   "name": "python",
   "nbconvert_exporter": "python",
   "pygments_lexer": "ipython3",
   "version": "3.10.0"
  }
 },
 "nbformat": 4,
 "nbformat_minor": 5
}
