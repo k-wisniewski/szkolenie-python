{
 "cells": [
  {
   "cell_type": "markdown",
   "id": "627fb7c0",
   "metadata": {
    "pycharm": {
     "name": "#%% md\n"
    }
   },
   "source": [
    "# Operacje na plikach\n",
    "\n",
    "## Otwieranie plików\n",
    "Przed użyciem plik musi zostać otwarty - służy do tego wbudowana funkcja `open` - tworząca odpowiedni deskryptor. Minimalnie przyjmuje ona ścieżkę do pliku (może być względna), jednak często podaje się też tryb otwarcia, pozwalający na określone operacje:\n",
    "- 'r'       otwarcie do czytania (domyślne)\n",
    "- 'w'       otwarcie do pisania - traci poprzednią zawartość otwieranego pliku\n",
    "- 'x'       stworzenie i otwarcie do pisania\n",
    "- 'a'       otwarcie do pisania - pozostawia poprzednią zawartość otwieranego pliku i dopisuje na końcu\n",
    "- 'b'       tryb binarny\n",
    "- 't'       tryb tekstowy (domyślny)\n",
    "- '+'       otwarcie pliku do czytania i pisania na raz\n",
    "Opcje można łączyć: np.: `t+` - otwarcie do czytania i pisania na raz w trybie tekstowym.\n",
    "Otwieranie może się nie powieść - np.: gdy pliku nie ma i wówczas rzucane są wyjątki, dlatego zazwyczaj pliki otwiera się w bloku `try ... except` lub przy użyciu managera kontekstu - tak się składa, że zwracany z `open` obiekt spełnia protokół managera kontekstu."
   ]
  },
  {
   "cell_type": "code",
   "execution_count": null,
   "id": "e4e7209a",
   "metadata": {
    "pycharm": {
     "name": "#%%\n"
    }
   },
   "outputs": [],
   "source": [
    "open?"
   ]
  },
  {
   "cell_type": "code",
   "execution_count": null,
   "id": "b6e9e164",
   "metadata": {
    "pycharm": {
     "name": "#%%\n"
    }
   },
   "outputs": [],
   "source": [
    "with open(\"sample.txt\", \"r\") as f:\n",
    "    print(f.readlines())"
   ]
  },
  {
   "cell_type": "markdown",
   "id": "a92bc26f",
   "metadata": {
    "pycharm": {
     "name": "#%% md\n"
    }
   },
   "source": [
    "## Zamykanie plików\n",
    "Otwarte deskryptory należy zamknąć - służy do tego metoda `close` deskryptora:"
   ]
  },
  {
   "cell_type": "code",
   "execution_count": null,
   "id": "3ac7de65",
   "metadata": {
    "pycharm": {
     "name": "#%%\n"
    }
   },
   "outputs": [],
   "source": [
    "f = open(\"sample.txt\")\n",
    "print(f.readlines())\n",
    "f.close()"
   ]
  },
  {
   "cell_type": "markdown",
   "id": "bd1f81d9",
   "metadata": {
    "pycharm": {
     "name": "#%% md\n"
    }
   },
   "source": [
    "## Czytanie plików tekstowych\n",
    "Czytanie pliów tekstowych to opcja domyślna, podobnie jak otwarcie pliku do czytania ale nie pisania. Domyślnie pliki tekstowe są buforowane po linijce."
   ]
  },
  {
   "cell_type": "code",
   "execution_count": null,
   "id": "660e7f68",
   "metadata": {
    "pycharm": {
     "name": "#%%\n"
    }
   },
   "outputs": [],
   "source": [
    "with open(\"sample.txt\") as f:\n",
    "    for line in f:\n",
    "        print(line)"
   ]
  },
  {
   "cell_type": "code",
   "execution_count": null,
   "id": "568accef",
   "metadata": {
    "pycharm": {
     "name": "#%%\n"
    }
   },
   "outputs": [],
   "source": [
    "with open(\"sample.txt\") as f:\n",
    "    print(f.readlines())"
   ]
  },
  {
   "cell_type": "code",
   "execution_count": null,
   "id": "4a6c3eb6",
   "metadata": {
    "pycharm": {
     "name": "#%%\n"
    }
   },
   "outputs": [],
   "source": [
    "with open(\"sample.txt\") as f:\n",
    "    print(f.readline())"
   ]
  },
  {
   "cell_type": "code",
   "execution_count": null,
   "id": "dcd2a1a8",
   "metadata": {
    "pycharm": {
     "name": "#%%\n"
    }
   },
   "outputs": [],
   "source": [
    "with open(\"sample.txt\") as f:\n",
    "    print(f.read())"
   ]
  },
  {
   "cell_type": "markdown",
   "id": "bfb6aba1",
   "metadata": {
    "pycharm": {
     "name": "#%% md\n"
    }
   },
   "source": [
    "## Pisanie do plików tekstowych\n",
    "Do zapisu służy jedna z dwóch funkcji - `write` i `writelines`:"
   ]
  },
  {
   "cell_type": "code",
   "execution_count": null,
   "id": "feda64a4",
   "metadata": {
    "pycharm": {
     "name": "#%%\n"
    }
   },
   "outputs": [],
   "source": [
    "with open(\"tmp.txt\", \"w\") as f:\n",
    "    f.write(\"cześć\\nczołem\\n\")\n",
    "\n",
    "!cat tmp.txt"
   ]
  },
  {
   "cell_type": "code",
   "execution_count": null,
   "id": "dbbca686",
   "metadata": {
    "pycharm": {
     "name": "#%%\n"
    }
   },
   "outputs": [],
   "source": [
    "lines = [\n",
    "    \"Na górze róże\\n\",\n",
    "    \"na dole fiołki\\n\"\n",
    "]\n",
    "with open(\"../tmp2.txt\", \"a\") as f:\n",
    "    f.writelines(lines)\n",
    "\n",
    "!cat ../tmp2.txt"
   ]
  },
  {
   "cell_type": "markdown",
   "id": "aafdab6b",
   "metadata": {
    "pycharm": {
     "name": "#%% md\n"
    }
   },
   "source": [
    "Należy pamiętać, że ani `write` ani `writelines` nie dodadzą znaków końca linii za nas."
   ]
  },
  {
   "cell_type": "markdown",
   "id": "b56a2274",
   "metadata": {
    "pycharm": {
     "name": "#%% md\n"
    }
   },
   "source": [
    "## Czytanie i pisanie plików binanych\n",
    "Czytanie i pisanie plików binarnych odbywa się analogicznie jak plików tekstowych - różnicą jest dodatkowa opcja `b` dodawana do trybu otwarcia:"
   ]
  },
  {
   "cell_type": "code",
   "execution_count": null,
   "id": "8cf12a57",
   "metadata": {
    "pycharm": {
     "name": "#%%\n"
    }
   },
   "outputs": [],
   "source": [
    "with open(\"encoding.png\", \"rb\") as f:\n",
    "    print(f.read(10)) # argument do read podaje liczbę bajtów do przeczytania"
   ]
  },
  {
   "cell_type": "markdown",
   "id": "09260a56",
   "metadata": {
    "pycharm": {
     "name": "#%% md\n"
    }
   },
   "source": [
    "Warto zwrócić uwagę, że domyślnie czytanie plików jest buforowane - kontroluje to flaga `buffering` - domyślnie bufor ma 4096 lub 8192 bajtów."
   ]
  },
  {
   "cell_type": "markdown",
   "id": "3066aab8",
   "metadata": {
    "pycharm": {
     "name": "#%% md\n"
    }
   },
   "source": [
    "## Pathlib\n",
    "\n",
    "W Pythonie jest wiele sposobów pracy ze ścieżkami w systemie plików - można je traktować jak zwykłe stringi, można użyć `os.path` lub użyć prawdopodobnie najlepszego sposobu dostępnego w nowszych wersjach - modułu `pathlib`:"
   ]
  },
  {
   "cell_type": "code",
   "execution_count": null,
   "id": "1937dbf2",
   "metadata": {
    "pycharm": {
     "name": "#%%\n"
    }
   },
   "outputs": [],
   "source": [
    "import pathlib\n",
    "\n",
    "home = pathlib.Path(\"~\")\n",
    "print(home.expanduser())\n",
    "print(pathlib.Path.home())\n",
    "\n",
    "current = pathlib.Path(\".\")\n",
    "print(current.absolute())\n",
    "\n",
    "repos = home.expanduser() / \"repos\"\n",
    "print(repos)\n",
    "print(repos.exists())\n",
    "\n",
    "print(list(current.glob(\"*.ipynb\")))\n",
    "(current / \"sample\").mkdir(exist_ok=True)\n",
    "print(list(current.iterdir()))\n",
    "\n",
    "(current / \"sample\").rmdir()\n",
    "print(list(current.iterdir()))"
   ]
  }
 ],
 "metadata": {
  "kernelspec": {
   "display_name": "Python 3 (ipykernel)",
   "language": "python",
   "name": "python3"
  },
  "language_info": {
   "codemirror_mode": {
    "name": "ipython",
    "version": 3
   },
   "file_extension": ".py",
   "mimetype": "text/x-python",
   "name": "python",
   "nbconvert_exporter": "python",
   "pygments_lexer": "ipython3",
   "version": "3.11.4"
  }
 },
 "nbformat": 4,
 "nbformat_minor": 5
}
