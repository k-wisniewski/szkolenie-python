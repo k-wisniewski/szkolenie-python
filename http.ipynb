{
 "cells": [
  {
   "cell_type": "markdown",
   "id": "e6037876",
   "metadata": {},
   "source": [
    "# Programowanie sieciowe\n",
    "## Serwer TCP\n",
    "Aby stworzyć prosty serwer echo TCP, możemy posłużyć się modułem biblioteki standardowej `socketserver`:"
   ]
  },
  {
   "cell_type": "code",
   "execution_count": null,
   "id": "c4855278",
   "metadata": {},
   "outputs": [],
   "source": [
    "from socketserver import BaseRequestHandler, TCPServer\n",
    "\n",
    "LISTEN_PORT = 8888\n",
    "\n",
    "class Echo(BaseRequestHandler):\n",
    "    def handle(self):\n",
    "        print('Connected from ', self.client_address)\n",
    "        while True:\n",
    "            msg = self.request.recv(8192)\n",
    "            if not msg:\n",
    "                break\n",
    "            self.request.send(msg)\n",
    "\n",
    "if __name__ == '__main__':\n",
    "    serv = TCPServer(('', LISTEN_PORT), Echo)\n",
    "    serv.serve_forever()"
   ]
  },
  {
   "cell_type": "markdown",
   "id": "4937053f",
   "metadata": {},
   "source": [
    "Możemy sprawdzić interakcję z nim przy użyciu następującego kodu, działającego jako osobny interpreter:"
   ]
  },
  {
   "cell_type": "code",
   "execution_count": null,
   "id": "b65750be",
   "metadata": {},
   "outputs": [],
   "source": [
    "from socket import socket, AF_INET, SOCK_STREAM\n",
    "\n",
    "LISTEN_PORT = 8888\n",
    "\n",
    "s = socket(AF_INET, SOCK_STREAM)\n",
    "s.connect(('localhost', LISTEN_PORT))\n",
    "s.send(b'Hello')\n",
    "s.recv(8192)"
   ]
  },
  {
   "cell_type": "markdown",
   "id": "76ae7176",
   "metadata": {},
   "source": [
    "Taki serwer jest oczywiście jednowątkowy i bardzo prymitywny - zazwyczaj interesuje nas wydajniejsza implementacja umożliwiająca zrównoleglenie obsługi zapytań, kontrolę nad tą równoległością, obsługę protokołu HTTP etc. Aby to osiągnąć najlepiej jest użyć gotowego serwera WSGI - np.: Gunicorn albo Uvicorn oraz sensownego frameworka HTTP, których w Pythonie nie brakuje. Większość z nich pod spodem korzysta np.: z poznanej tu biblioteki `socketserver`, jednak wiele problemów jest już rozwiązanych przez specjalistów w tej dziedzinie, którzy kontrybuują do projektów Open Source w ekosystemie Pythona."
   ]
  },
  {
   "cell_type": "markdown",
   "id": "c7af804a",
   "metadata": {},
   "source": [
    "## Eksponowanie API HTTP\n",
    "\n",
    "### WSGI - [PEP-3333](https://www.python.org/dev/peps/pep-3333/)\n",
    "Interfejs dla webserwera\n",
    "```\n",
    "def application(environ, start_response):\n",
    "    body = b'Hello world!\\n'\n",
    "    status = '200 OK'\n",
    "    headers = [('Content-type', 'text/plain')]\n",
    "    start_response(status, headers)\n",
    "    return [body]\n",
    "```\n",
    "\n",
    "\n",
    "### Flask\n",
    "Do stworzenia API HTTP posłużymy się frameworkiem `Flask`. W ekosystemie Pythona jest wiele różnych bibliotek i frameworków, z których można skorzystać - najpopularniejszym jest `Django`, a w szczególności jego rozszerzenie `Django Rest Framework`. `Django` jest również najbardziej rozbudowane, posiada gotowe rozwiązania dla wielu standardowych problemów związanych z budowaniem aplikacji webowych - template'y, ORM, migracje etc. Filozofią `Django` jest wymuszać określoną strukturę projektu i określone, uważane przez jego twórców za prawidłowe wzorce budowania aplikacji.\n",
    "`Flask` dla odmiany stara się być możliwie modularny, niewiele narzucając i będąc przez to dużo łatwiejszym do nauki. Jego popularność również jest duża, lata rozwoju skutkują dobrą stabilnością, jednak w niektórych aspektach wymaga on bardziej bezpośredniego podejścia do rozwiązywanych problemów. Do naszych zastosowań będzie jednak lepszy, ponieważ jego elastyczność umożliwi nam łatwe rozwinięcie `dirwatchera` o API HTTP, bez konieczności uczenia się wszystkich konceptów wymaganych przez `Django`. \n",
    "\n",
    "Najprostsza aplikacja we `Flask`u wygląda następująco:\n",
    "```\n",
    "from flask import Flask\n",
    "app = Flask(__name__)\n",
    "\n",
    "@app.route('/', methods=['GET'])\n",
    "def hello_world():\n",
    "    return 'Hello, World!'\n",
    "```\n",
    "Po zaimportowaniu wystaczy utworzyć obiekt reprezentujący naszą aplikację, a następnie użyć dekoratora `@app.route` by zamienić funkcję zwracającą jakiś wynik na endpoint HTTP dostępny pod ścieżką podaną w argumencie dekoratora.\n",
    "Aby uruchomić wbudowany we Flaska serwer HTTP (wyłącznie do celów developerskich!), należy ustawić zmienną środowiskową `FLASK_APP` na ścieżkę do pliku z naszym kodem i wywołać `flask run`:\n",
    "```\n",
    ">>> export FLASK_APP=hello.py # na uniksach\n",
    ">>> set FLASK_APP=hello.py # w windowsowym cmd\n",
    ">>> $env:FLASK_APP = \"hello.py\" # w powershell\n",
    ">>> flask run\n",
    " * Running on http://127.0.0.1:5000/\n",
    "```\n",
    "Domyślnie `Flask` wystawi nasz endpoint pod adresem `http://127.0.0.1:5000/`.\n",
    "\n",
    "Przydatne w przypadku kłopotów jest dodatkowe ustawienie lokalnie zmiennej `FLASK_ENV=development`, co pozwoli nam dostać lepsze informacje o błędach, dostępne również przez przeglądarkę. \n",
    "[Dokumentacja Flaska](https://flask.palletsprojects.com/en/2.0.x/quickstart/) zawiera więcej informacji n.t. tego jak szybko zacząć korzystać z tego narzędzia, dlatego nie będzie tu przepisywana.\n",
    "\n",
    "\n",
    "### *Zadanie 1*\n",
    "```\n",
    "git checkout task-8\n",
    "git checkout -b my-solution-8\n",
    "```\n",
    "* [ ] Utwórz handler `has_anything changed`, monitorujący katalog podany w url:\n",
    "    - utwórz nową instancję usługi `WatcherService`\n",
    "    - wywołaj metodę `has_anything_changed` z usługi `WatcherService`\n",
    "    - obsłuż możliwe wyjątki i zwróć `400` w przypadku wystąpienia wyjątku `NoPriorCheckpointSavedError`\n",
    "    - zwróć wartość typu `bool`\n",
    "    - endpoint powinien być dostępny pod adresem `/<nazwa_podfolderu>/ischanged`\n",
    "    - użyj metody HTTP `GET`\n",
    "* [ ] Napisz test integracyjny testujący napisany endpoint\n",
    "\n",
    "### *Zadanie 2*\n",
    "- [ ] Utwórz endpoint `list_deleted`, zwracający listę plików skasowanych od ostatniego sprawdzenia\n",
    "    - użyj metody `get_changes_since_last_checkpoint` z `WatcherService` by dostać listę skasowanych plików\n",
    "    - obsłuż możliwe wyjątki i zwróć `400` w przypadku wystąpienia wyjątku `NoPriorCheckpointSavedError`\n",
    "    - endpoint powinien być dostępny pod adresem `/<nazwa_podfolderu>/deleted`\n",
    "    - użyj metody HTTP `GET`\n",
    "    - wynik powinien być zserializowany jako lista stringów w formacie JSON\n",
    "    - zaproponuj analogiczne endpointy dla nowych i zmienionych plików\n",
    "\n"
   ]
  }
 ],
 "metadata": {
  "kernelspec": {
   "display_name": "Python 3 (ipykernel)",
   "language": "python",
   "name": "python3"
  },
  "language_info": {
   "codemirror_mode": {
    "name": "ipython",
    "version": 3
   },
   "file_extension": ".py",
   "mimetype": "text/x-python",
   "name": "python",
   "nbconvert_exporter": "python",
   "pygments_lexer": "ipython3",
   "version": "3.10.0"
  }
 },
 "nbformat": 4,
 "nbformat_minor": 5
}
