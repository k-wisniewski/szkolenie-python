{
 "cells": [
  {
   "cell_type": "markdown",
   "id": "10f79758",
   "metadata": {
    "pycharm": {
     "name": "#%% md\n"
    }
   },
   "source": [
    "## Managery kontekstu\n",
    "Czasami alokujemy zasoby, które wymagają zwolnienia lub używamy obiektów, wymagających inicjalizacji i deinicjalizacji. Aby zapewnić, że deinicjalizacja lub zwolnienie zawsze nastapi możemy napisać taki kod:\n",
    "```\n",
    "try:\n",
    "    obj = initialize()\n",
    "    do_something(obj)\n",
    "finally:\n",
    "    deinitialize(obj)\n",
    "```\n",
    "\n",
    "Jest on jednak mniej czytelny niż kod:\n",
    "```\n",
    "with initialize() as obj:\n",
    "    do_something(obj)\n",
    "```\n",
    "Gdzie zatem odbywa się deinicjalizacja? Cała tajemnica kryje się w konstrukcji `with ... as:`. W naszym przykładzie `initialize()` zwraca tzw. *manager kontekstu*, który zajmuje się zapewnieniem, by odpowiednia inicjalizacja i deinicjalizacja odbyły się odpowiednio na początku i na końcu bloku kodu, zawartego w konstrukcji `with...`. Czym jest ów `manager kontekstu`? Klasą implementującą następujący interfejs:\n",
    "```\n",
    "class FileOpener:\n",
    "    def __init__(self, name):\n",
    "        self.file_obj = open(file_name, method)\n",
    "    \n",
    "    def __enter__(self):\n",
    "        return self.file_obj\n",
    "    def __exit__(self, type, value, traceback):\n",
    "        self.file_obj.close()\n",
    "```\n",
    "```\n",
    "@contextlib.contextmanager\n",
    "def f():\n",
    "    x = zaalokuj_zasoby()\n",
    "    yield x\n",
    "    posprzataj_zasoby(x)\n",
    "\n",
    "with f() as x:\n",
    "    zrob_cos(x)\n",
    "```\n",
    "Metoda `__exit__` zostanie uruchomiona nawet, gdy w bloku `with...` zostanie rzucony wyjątek. Managery konttekstu mogą przydać się do:\n",
    "- otwierania i zamykania plików\n",
    "- wykonywania operacji alokujących pamięć poza interpreterem pythona, np. w bilbliotekach zaimplementowanych w C\n",
    "- zakładania i zwalniania blokad\n",
    "- startowania i stopowania różnych procesów w tle\n",
    "- ...\n",
    "\n",
    "W naszym przykładem zastosowania managera contextu jest też użycie go do sprawdzania czy funkcja rzuca wyjątek w dobrym momencie - np. w `traverser_test.py::test_list_dir_returns_nothing_for_directory_with_no_files`:"
   ]
  },
  {
   "cell_type": "code",
   "execution_count": null,
   "id": "4d61212a",
   "metadata": {
    "pycharm": {
     "name": "#%%\n"
    }
   },
   "outputs": [],
   "source": [
    "def test_list_dir_returns_nothing_for_directory_with_no_files(tmp_dir_without_files):\n",
    "    list_dir = make_traverser(tmp_dir_without_files)\n",
    "    with pytest.raises(StopIteration):\n",
    "        next(list_dir())"
   ]
  },
  {
   "cell_type": "markdown",
   "id": "a166843f",
   "metadata": {
    "pycharm": {
     "name": "#%% md\n"
    }
   },
   "source": [
    "Aby uprościć pisanie managerów contekstu możemy też skorzystać z dekoratora `@contextlib.contextmanager` - o tym w rozdziale o generatorach"
   ]
  }
 ],
 "metadata": {
  "kernelspec": {
   "display_name": "Python 3 (ipykernel)",
   "language": "python",
   "name": "python3"
  },
  "language_info": {
   "codemirror_mode": {
    "name": "ipython",
    "version": 3
   },
   "file_extension": ".py",
   "mimetype": "text/x-python",
   "name": "python",
   "nbconvert_exporter": "python",
   "pygments_lexer": "ipython3",
   "version": "3.11.4"
  }
 },
 "nbformat": 4,
 "nbformat_minor": 5
}
