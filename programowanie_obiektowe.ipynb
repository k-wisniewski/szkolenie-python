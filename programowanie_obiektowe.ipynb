{
 "cells": [
  {
   "cell_type": "markdown",
   "id": "4e9ca923",
   "metadata": {},
   "source": [
    "## Programowanie obiektowe\n",
    "Python jest językiem wieloparadygmatowym - wspiera zarówno programowanie strukturalne, obiektowe jak i elementy programowania funkcyjnego. Programowanie obiektowe w Pythonie opiera się na mechanizmie klas, podobnie jak w C++ czy Javie i jest domyślnie nominatywne, czyli typy explicite definiują czy i jakie inne typy rozszerzają, jednak istnieje też wsparcie dla typowania strukturalnego, znanego z np. Go. Możliwe jest wielodziedziczenie, o czym będzie stosowny podrozdział. "
   ]
  },
  {
   "cell_type": "code",
   "execution_count": null,
   "id": "c61219ef",
   "metadata": {},
   "outputs": [],
   "source": [
    "class Człowiek:\n",
    "    max_wiek = 150\n",
    "    def __init__(self, imię):\n",
    "        self.wiek = 0\n",
    "        self.imię = imię\n",
    "    \n",
    "    def dorośnij(self):\n",
    "        self.wiek += 50\n",
    "        self._hoduj_wąs()\n",
    "    \n",
    "    def _hoduj_wąs(self):\n",
    "        self.wąsy = \"są\"\n",
    "\n",
    "januszek = Człowiek(\"Janusz\")\n",
    "#print(f\"wąsy: {januszek.wąsy}\")\n",
    "januszek.dorośnij()\n",
    "print(f\"Januszek - wąsy: {januszek.wąsy}\")\n",
    "\n",
    "mariuszek = Człowiek(\"Mariusz\")\n",
    "mariuszek._hoduj_wąs()\n",
    "print(f\"Mariuszek - wąsy: {januszek.wąsy}\")"
   ]
  },
  {
   "cell_type": "markdown",
   "id": "fc556567",
   "metadata": {},
   "source": [
    "W powyższym przykładzie klasa `Człowiek` ma pole klasowe `max_wiek`, którą dzielą wszyscy ludzie. W Pythonie ten typ pola jest nieco mniej użyteczny niż w innych językach, bo w praktyce każdy może sobie to pole nadpisać i uzyskać swoją kopię. Bardziej rozpowszechnione jest stosowanie zmiennych na poziomie modułu lub po prostu pól obiektu - tworzonych wg konwencji w specjalnej metodzie `__init__()`, czyli konstruktorze. Z innych ciekawszych rzeczy metoda `_hoduj_wąs` zaczyna się od znaku `_` - w Pythonie to sposób by dać innym programistom znać, że dane pole lub metoda nie wchodzą w skład publicznego interfejsu klasy. Domyślnie takie pola, metody, zmienne, klasy etc. nie są eksportowane z pakietów, czyli nie można ich używać w innym pakiecie (chyba, że nadpisze się specjalną zmienną `__all__` w `__init__.py` i specjalnie je wyeksportuje). "
   ]
  },
  {
   "cell_type": "markdown",
   "id": "afa836d7",
   "metadata": {},
   "source": [
    "### Podstawy dziedziczenia\n",
    "Dziedziczenie klas to mechanizm pozwalający na realizację zależności, w której tzw. podklasa **jest** szczególnym przypadkiem klasy bazowej - np. piłkarz **jest** sportowcem, ale np. piłkarz **ma** strój sportowy. To ważne by odróżniać kiedy coś **jest** czymś, a kiedy coś **posiada** coś innego. Dziedziczenie stosuje się tylko gdy coś **jest** czymś, a nie po to by np. zaoszczędzic sobie pisania. "
   ]
  },
  {
   "cell_type": "code",
   "execution_count": null,
   "id": "9e4ce3b8",
   "metadata": {},
   "outputs": [],
   "source": [
    "class Player:\n",
    "    def __init__(self, name, weight, height):\n",
    "        self.name = name\n",
    "        self.weight = weight\n",
    "        self.height = height\n",
    "    \n",
    "    def play(self):\n",
    "        print(\"playing!\")\n",
    "\n",
    "class FootballPlayer(Player):\n",
    "    def __init__(self, name, weight, height, dominant_foot):\n",
    "        super(FootballPlayer, self).__init__(name, weight, height)\n",
    "        self.dominant_foot = dominant_foot\n",
    "    \n",
    "#     def play(self):\n",
    "#         print(f\"kicking the ball with my {self.dominant_foot} foot!\")\n",
    "    \n",
    "    def use_head(self):\n",
    "        print(\"head!\")\n",
    "\n",
    "random_player = Player(\"Adrian Klusek\", 85, 186)\n",
    "footballer = FootballPlayer(\"Marian Klusek\", 95, 186, \"left\")\n",
    "random_player.play()\n",
    "footballer.play()\n",
    "footballer.use_head()\n",
    "\n",
    "isinstance(random_player, Player)\n",
    "isinstance(footballer, Player)"
   ]
  },
  {
   "cell_type": "markdown",
   "id": "3ad5e2a8",
   "metadata": {},
   "source": [
    "### Wielodziedziczenie\n",
    "Python w odróżnieniu od wielu innych nowoczesnych języków programowania wspiera wielodziedziczenie. Czym jest wielodziedziczenie? Mówiliśmy, że dziedziczenie modeluje relację `is-a`. W rzeczywistości zdarza się, że taka relacja zachodzi między różnymi bytami w zależności od poziomu abstrakcji na którym ją rozpatrujemy. Np.: samochód i rower są pojazdami, ale zarówno samochód jak i radiobudzik są urządzeniami mogącymi odtwarzać radio. W obu przypadkach relacja `is-a` zachodzi i w Pythonie możemy to explicite modelować:"
   ]
  },
  {
   "cell_type": "code",
   "execution_count": null,
   "id": "2b8ea4b6",
   "metadata": {},
   "outputs": [],
   "source": [
    "class Pojazd:\n",
    "     def jedź_do_przodu(self):\n",
    "        pass\n",
    "\n",
    "class OdtwarzaczRadio:\n",
    "    def graj(self):\n",
    "        ...\n",
    "\n",
    "class RadioBudzik(OdtwarzaczRadio):\n",
    "     def graj(self):\n",
    "        self.graj_na_głośniku(self.odbieraj_sygnał())\n",
    "        \n",
    "class Rower(Pojazd): \n",
    "    def jedź_do_przodu(self):\n",
    "        self.x += self.pedałuj()\n",
    "\n",
    "class Samochód(Pojazd, OdtwarzaczRadio):\n",
    "    def jedź_do_przodu(self):\n",
    "        self.odpal_silnik()\n",
    "        self.wrzuć_bieg()\n",
    "        \n",
    "    def graj(self):\n",
    "        self.graj_na_głośniku(self.odbieraj_sygnał())\n",
    "\n",
    "s = Samochód()\n",
    "r = Rower()\n",
    "rb = RadioBudzik()\n",
    "\n",
    "print(f\"Samochód {'jest' if isinstance(s, OdtwarzaczRadio) else 'nie jest'} odtwarzaczem radio\")\n",
    "print(f\"Samochód {'jest' if isinstance(s, Pojazd) else 'nie jest'} pojazdem\")\n",
    "\n",
    "print(f\"Rower {'jest' if isinstance(r, OdtwarzaczRadio) else 'nie jest'} odtwarzaczem radio\")\n",
    "print(f\"Rower {'jest' if isinstance(r, Pojazd) else 'nie jest'} pojazdem\")\n",
    "\n",
    "print(f\"Radiobudzik {'jest' if isinstance(rb, OdtwarzaczRadio) else 'nie jest'} odtwarzaczem radio\")\n",
    "print(f\"Radiobudzik {'jest' if isinstance(rb, Pojazd) else 'nie jest'} pojazdem\")"
   ]
  },
  {
   "cell_type": "markdown",
   "id": "11b5d07c",
   "metadata": {},
   "source": [
    "### super\n",
    "`super` jest wbudowaną funkcją, z której możemy skorzystać by uzyskać dostęp do pól lub metod w wersjach zdefiniowanych w nadklasach - zwracany jest obiekt tymczasowy klasy bazowej (tak naprawdę tylko proxy), który może zostać \"związany\" z pożądaną metodą podczas jej wywołania. W swojej implementacji `super` korzysta z `mro` aby znaleźć właściwe wiązanie dla nazwy:"
   ]
  },
  {
   "cell_type": "code",
   "execution_count": null,
   "id": "f7b83c9a",
   "metadata": {},
   "outputs": [],
   "source": [
    "class A:\n",
    "    def do_something(self):\n",
    "        print(\"I'm A\")\n",
    "\n",
    "class B(A):\n",
    "    def do_something(self):\n",
    "        print(\"I'm B\")\n",
    "\n",
    "class C(A):\n",
    "    def do_something(self):\n",
    "        print(\"I'm C\")\n",
    "\n",
    "class D(B, C):\n",
    "    def do_something(self):\n",
    "        print(\"I'm D\")\n",
    "\n",
    "    def do_something_else_D(self):\n",
    "        super(D, self).do_something()\n",
    "\n",
    "    def do_something_else_B(self):\n",
    "        super(B, self).do_something()\n",
    "\n",
    "    def do_something_else_C(self):\n",
    "        super(C, self).do_something()\n",
    "        \n",
    "    def do_something_else_A(self):\n",
    "        super(A, self).do_something()\n",
    "\n",
    "d = D()\n",
    "d.do_something()\n",
    "d.do_something_else_D()\n",
    "d.do_something_else_B()\n",
    "d.do_something_else_C()\n",
    "d.do_something_else_A()"
   ]
  },
  {
   "cell_type": "markdown",
   "id": "18efcf50",
   "metadata": {},
   "source": [
    "`super()` bywa często używane gdy zachowanie override'owanej metody jest rozszerzeniem bardziej generalnego zachowania, zaimplementowanego już w klasie bazowej - szczególnie popularne jest wywoływanie konstruktora nadklasy celem inicjalizacji dziedziczonych pól."
   ]
  },
  {
   "cell_type": "code",
   "execution_count": null,
   "id": "d94c20bf",
   "metadata": {},
   "outputs": [],
   "source": [
    "class Rectangle:\n",
    "    def __init__(self, length, width):\n",
    "        self.length = length\n",
    "        self.width = width\n",
    "\n",
    "    def area(self):\n",
    "        return self.length * self.width\n",
    "\n",
    "    def perimeter(self):\n",
    "        return 2 * self.length + 2 * self.width\n",
    "\n",
    "class Square(Rectangle):\n",
    "    def __init__(self, length):\n",
    "        super().__init__(length, length)\n",
    "\n",
    "\n",
    "s = Square(5)\n",
    "print(f\"area: {s.area()}, perimeter: {s.perimeter()}\")"
   ]
  },
  {
   "cell_type": "markdown",
   "id": "95998123",
   "metadata": {},
   "source": [
    "Skomplikowane hierarchie (wielo-)dziedziczenia rzadko są dobrym rozwiązaniem problemów i w porządnie zaprojektowanych programach spotyka się je relatywnie rzadko lub wcale. Problemy takie jak nieoczywsta kolejność wyszukiwania nazw, ale też niepotrzebne wiązanie ze sobą niepowiązanych konceptów (to, że coś jest prawdą w rzeczywistości nie oznacza, że jest dobrym modelem danej domeny w kodzie) sprawiły, że od paru lat raczej unika się modelowania kodu z użyciem wielodziedziczenia. Niektóre nowoczesne języki programowania jak Go w ogóle zrezygnowały z dziedziczenia (nie tylko wielodziedziczenia), zachęcając programistów do poszukiwania innych sposobów strukturyzowania ich problemów. Również w Pythonie pojawiło się kilka innych rozwiązań, które pozwalają na tworzenie kodu łatwiejszego w utrzymaniu i dalszym rozwoju.\n",
    "\n",
    "## Mixins - sensowne zastosowanie wielodziedziczenia\n",
    "\n",
    "To oczywiście nie oznacza, że wielodziedziczenie odeszło w zapomnienie - wiele frameworków używa wielodziedziczenia w sposób zgoła odmienny od modelowania relacji is-a. Zamiast tego klasy użytkownika zazwyczaj dziedziczą po klasie bazowej z frameworka oferującej podstawową funkcjonalność danego konceptu, modelując rzeczywiście tę relację, ale pozostałe klasy bazowe służą zupelnie czemu innemu. Mowa o tzw. mixins - klasach bazowych, które enkapsulują pewne zachowanie, które ciężko jednoznacznie przypisać do danego typu. Przykładowo w popularnym frameworku webowym Django możemy stworzyć widok (jako klasę) i dodać w łatwy sposób weryfikacje czy użytkownik próbujacy go użyć jest zalogowany:"
   ]
  },
  {
   "cell_type": "code",
   "execution_count": null,
   "id": "17396a95",
   "metadata": {},
   "outputs": [],
   "source": [
    "class MyView(LoginRequiredMixin, View):\n",
    "    login_url = '/login/'\n",
    "    redirect_field_name = 'redirect_to'\n",
    "    ... # normal View implementation"
   ]
  },
  {
   "cell_type": "markdown",
   "id": "7daf908d",
   "metadata": {},
   "source": [
    "Podobnych użyć mixinów jest wiele - mogą np. dodawać do widoku walidacje formularzy, paginację list obiektów etc. Zdarza sie również, że mixiny są wykorzystywane również poza frameworkami - właśnie wówczas gdy chcemy zenkapsulować pewne zachowania, które nie są zależne od konkretnego typu, a co najwyżej od pewnych jego atrybutów, a które duplikują się między różnymi, niepowiązanymi klasami. Czasami są to po prostu zachowania, które możemy też opakować w dekorator, jednak z racji na konieczność przechowywania stanu lub wyższy poziom komplikacji czytelniej je zenkapsulować w formie klas - np. [logowanie](https://github.com/senko/python-logger/blob/master/logger.py)\n",
    "\n",
    "## Metody specjalne\n",
    "Metody zaczynające i kończące swoje nazwy od `__` to tzw. metody specjalne. W Pythonie istnieje wiele specjalnych metod, realizujacych określone funkcje (np. umożliwiające iterowanie po klasach, porównywanie etc.) jednak na tym szkoleniu skupimy się w szczególności na metodach `__init__`, `__str__`, `__repr__`, `__eq__` i `__hash__` - czyli tych najczęściej spotykanych w kodzie aplikacji."
   ]
  },
  {
   "cell_type": "code",
   "execution_count": null,
   "id": "80b977d8",
   "metadata": {},
   "outputs": [],
   "source": [
    "dir(object)"
   ]
  },
  {
   "cell_type": "code",
   "execution_count": null,
   "id": "1b0fe3cc",
   "metadata": {},
   "outputs": [],
   "source": [
    "class Człowiek:\n",
    "    def __init__(self, imię):\n",
    "        self.wiek = 0\n",
    "        self.imię = imię\n",
    "    \n",
    "    def dorośnij(self):\n",
    "        self.wiek += 50\n",
    "    \n",
    "    def __str__(self):\n",
    "        return f\"{self.imię}, {self.wiek} l.\"\n",
    "    \n",
    "    def __repr__(self):\n",
    "        return f\"Człowiek <{self.imię},{self.wiek}>\"\n",
    "    \n",
    "    def __hash__(self):\n",
    "        return hash((self.imię, self.wiek))\n",
    "    \n",
    "    def __eq__(self, other):\n",
    "        return self.imię == other.imię and self.wiek == other.wiek\n",
    "    \n",
    "\n",
    "grażynka = Człowiek(\"Grażyna\")\n",
    "grażynka.dorośnij()\n",
    "print(grażynka)\n",
    "print(f\"{grażynka!r}\")\n",
    "\n",
    "print(\"-\" * 80)\n",
    "druga_grażynka = Człowiek(\"Grażyna\")\n",
    "druga_grażynka.dorośnij()\n",
    "print(druga_grażynka)\n",
    "print(druga_grażynka == grażynka)\n",
    "print(druga_grażynka is grażynka)\n",
    "\n",
    "print(\"-\" * 80)\n",
    "print({grażynka, druga_grażynka})"
   ]
  },
  {
   "cell_type": "markdown",
   "id": "d04af03d",
   "metadata": {},
   "source": [
    "### `__str__`\n",
    "Ta metoda kontroluje w jaki sposób obiekty danej klasy są wypisywanie na ekran. Celem tej metody jest przedstawienie obiektu w sposób umożliwiający *ludziom* łatwe go odczytanie, inaczej mówiąc wygoda. \n",
    "\n",
    "### `__repr__`\n",
    "Ta metoda kontroluje w jaki sposób obiekty danej klasy są wypisywanie na ekran, jednak jej celem nie jest czytelność dla `ludzi` a jednoznaczność i potencjalnie przetwarzanie automatyczne. Wykorzystuje się ją np. w debuggerach by nie mieć wątpliwości o który obiekt chodzi - `__str__` może być niejednoznaczny o ile poprawia to czytelność np.: `str(\"3\") == str(3)`.\n",
    "\n",
    "### `__eq__`\n",
    "`__eq__` jest wywoływana przy porównaniu z użyciem `==` - dla obiektów domyślnie rozróżnienie następuje po referencji lub hashu, jeśli obiekt jest hashowalny. Przykładowo, mamy do zaimplementowania klasę `Money` - nie ma znaczenia, która konkretnie instancja jest w naszym posiadaniu - zamiast tego liczy się np. nominał i ilość egzemplarzy, które mamy. Aby to osiągnać nadpisujemy `__eq__` tak, by zwracała `True` zawsze gdy zgadza się nominał i ilość banknotów. \n",
    "\n",
    "### `__hash__`\n",
    "Obiekty mogą być hashowalne lub nie - jeśli mają być, to metoda specjalna `__hash__` musi być sensownie zaimplemntowana. Po co przydaje się by obiekt był hashowalny? Np. po to by mógł być kluczem w słowniku lub elementem zbioru. Aby ułatwić nam implementacje istnieje wbudowana funkcja `hash`, której można podać dowolny hashowalny argument - np. `Tuple` zawierającą pola kontrybuujące do tego, że dwa egzemplarze klasy są rozróżnialne. Jeśli egzemplarze są równe w sensie operatora `==`, to powinny mieć ten sam hash (niekoniecznie w drugą stronę). Domyślnie hashowalne są typy proste i niezmienialne kolekcje - np. `Tuple` czy `frozenset`.\n",
    "\n",
    "### Inne metody specjalne\n",
    "Wiele wbudowanych zachowań różnorakich obiektów w Pythonie jest zaimplementowana przy użyciu metod specjalnych: przykładowo, iterowanie po kolekcjach jest możliwe dzięki temu, że implementują one metody `__iter__()` i `__next__()` - korzysta z nich nawet pętla `for`! Metodami specjalnymi są operatory (np.: porównanie przy użyciu `<` jest implementowane przez `__lt__()`, mnożenie jest operatorem `__mul__` etc.), odwołania do elementów i wiele innych mechanizmów. Nie będziemy ich wszystkich omawiać, ale warto wiedzieć jak tworzyć nasze własne klasy, które mogą zyskać na naturalności użycia i być bardziej ekspresywne."
   ]
  },
  {
   "cell_type": "markdown",
   "id": "95ae2cbb",
   "metadata": {},
   "source": [
    "### *Zadanie 1*\n",
    "Wykonaj polecenie:\n",
    "```\n",
    "git checkout task-2\n",
    "git checkout -b my-solution-2\n",
    "```\n",
    "W katalogu dirwatcher znajduje się plik `watcher_service.py` - będzie to miejsce zawierające logikę głównych funkcjonalności naszego programu. Obecnie znajduje się tam szkielet klasy `WatcherService`, który w ramach tego zadania należy rozwinąć:\n",
    "* [ ] zaimplementuj konstruktor klasy:\n",
    "    * [ ] jako parametr powinien brać funkcję, która może zwrócić listę ścieżek do wszystkich plików, które mają być obserwowane\n",
    "    * [ ] funkcja ta powinna zostać przypisana do pola tworzonego obiektu\n",
    "* [ ] uzupełnij metodę `has_anything_changed`:\n",
    "    * [ ] obejrzyj test `test_has_anything_changed_should_indicate_if_files_match` w pliku `watcher_service_test.py`\n",
    "        * [ ] sprawdź w dokumentacji `pytest`u do czego służy `@pytest.mark.parametrize`\n",
    "        * [ ] sprawdź w dokumentacji `pytest`u do czego służy monkeypatch\n",
    "    * [ ] napisz implementację metody tak, by przechodziła ten test bez modyfikacji:\n",
    "        * [ ] wczytaj ostatnie checkpointy przy użyciu funkcji `load_checkpoints` z modułu `dirwatcher.infrastructure.checkpoints_store`, stworzonej w poprzednim zadaniu\n",
    "        * [ ] w implementacji możesz użyć funkcji `hash_content(path: Path) -> str` z modułu `dirwatcher.infrastructure.hasher` - załóż, że jest gotowa\n",
    "    * [ ] przetestuj odpalając `pytest dirwatcher/watcher_service_test.py` i ew. popraw błędy\n",
    "* [ ] scommituj rozwiązanie na swoim branchu `my-solution-2`"
   ]
  }
 ],
 "metadata": {
  "kernelspec": {
   "display_name": "Python 3 (ipykernel)",
   "language": "python",
   "name": "python3"
  },
  "language_info": {
   "codemirror_mode": {
    "name": "ipython",
    "version": 3
   },
   "file_extension": ".py",
   "mimetype": "text/x-python",
   "name": "python",
   "nbconvert_exporter": "python",
   "pygments_lexer": "ipython3",
   "version": "3.10.0"
  }
 },
 "nbformat": 4,
 "nbformat_minor": 5
}
