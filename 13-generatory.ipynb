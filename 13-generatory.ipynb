{
 "cells": [
  {
   "cell_type": "markdown",
   "id": "0571c0c4",
   "metadata": {
    "pycharm": {
     "name": "#%% md\n"
    }
   },
   "source": [
    "## Generatory\n",
    "Generatory umożliwiają leniwe tworzenie sekwencji obiektów, które można iterować. Szczególnie przydatne są gdy wygenerowanie pojedynczego elementu sekwencji jest drogie - wymaga długich obliczeń, pobrania czegoś z sieci, zaalokowania dużej ilości pamieci, czytania z dysku etc. Dzięku generatorom nie jest konieczne generowanie wszystkich elementów na raz, co mogłoby być bardzo powolne lub zwyczajnie niemożliwe. Zamiast tego generatory mogą generować po jednym elemencie na raz, umożliwiając ich przetwarzanie na bierząco i umożliwiając niewygenerowanie elementów, które np. w przypadku szybszego zakończenia pętli nie byłby potrzebne. W swojej konstrukcji generatory to po postu funkcje, jednak zamiast słowa kluczowego `return` używa się `yield` - potencjalnie wielokrotnie, gdyż kontrola powraca w miejsce `yield` gdy pętla prosi o kolejny element (czyli woła na zwróconym iteratorze specjalną metodę `__next__()` - to jednak wykracza poza zakres tego szkolenia):"
   ]
  },
  {
   "cell_type": "code",
   "execution_count": null,
   "id": "7a664d12",
   "metadata": {
    "pycharm": {
     "name": "#%%\n"
    }
   },
   "outputs": [],
   "source": [
    "class MyIter:\n",
    "    def __iter__(self):\n",
    "        ...\n",
    "    def __next__(self):\n",
    "        ..."
   ]
  },
  {
   "cell_type": "code",
   "execution_count": null,
   "id": "81afe173",
   "metadata": {
    "pycharm": {
     "name": "#%%\n"
    }
   },
   "outputs": [],
   "source": [
    "def even_number_generator(n):\n",
    "    for i in range(n):\n",
    "        print(f\"generated {i}\")\n",
    "        yield i\n",
    "\n",
    "\n",
    "\n",
    "for k in even_number_generator(10):\n",
    "    print(f\"got {k} from generator\")"
   ]
  },
  {
   "cell_type": "markdown",
   "id": "3fc85b41",
   "metadata": {
    "pycharm": {
     "name": "#%% md\n"
    }
   },
   "source": [
    "Można również tworzyć generatory przy użyciu comprehensions:"
   ]
  },
  {
   "cell_type": "code",
   "execution_count": null,
   "id": "23c6cfda",
   "metadata": {
    "pycharm": {
     "name": "#%%\n"
    }
   },
   "outputs": [],
   "source": [
    "def print_and_return(i):\n",
    "    print(f\"generated {i}\")\n",
    "    return i\n",
    "\n",
    "for k in (print_and_return(i) for i in range(10)):\n",
    "    print(f\"got {k} from generator\")"
   ]
  },
  {
   "cell_type": "markdown",
   "id": "fadf5007",
   "metadata": {
    "pycharm": {
     "name": "#%% md\n"
    }
   },
   "source": [
    "Generatory można też łączyć w łancuchy przy użyciu `yield from`:"
   ]
  },
  {
   "cell_type": "code",
   "execution_count": null,
   "id": "2e7e5264",
   "metadata": {
    "pycharm": {
     "name": "#%%\n"
    }
   },
   "outputs": [],
   "source": [
    "import time\n",
    "\n",
    "def download_small_images():\n",
    "    for i in range(10):\n",
    "        # tu powinno być np. pobieranie obrazków z innego serwera\n",
    "        time.sleep(1)\n",
    "        yield f\"mały_obrazek_{i}\"\n",
    "\n",
    "def download_medium_images():\n",
    "    for i in range(10):\n",
    "        # tu powinno być np. pobieranie obrazków z innego serwera\n",
    "        time.sleep(1)\n",
    "        yield f\"średni_obrazek_{i}\"\n",
    "\n",
    "\n",
    "def download_big_images():\n",
    "    for i in range(10):\n",
    "        # tu powinno być np. pobieranie obrazków z innego serwera\n",
    "        time.sleep(1)\n",
    "        yield f\"duży_obrazek_{i}\"\n",
    "\n",
    "def download_all_images_sequentially():\n",
    "    yield \"somethting\"\n",
    "    yield from download_small_images()\n",
    "    yield from download_medium_images()\n",
    "    yield from download_big_images()\n",
    "\n",
    "def download_all_images_one_by_one():\n",
    "    for small, medium, large in zip(download_small_images(), download_medium_images(), download_big_images()):\n",
    "        yield small\n",
    "        yield medium\n",
    "        yield large\n",
    "\n",
    "#for img in download_all_images_sequentially():\n",
    "#    print(img)\n",
    "\n",
    "for img in download_all_images_one_by_one():\n",
    "    print(img)"
   ]
  },
  {
   "cell_type": "markdown",
   "id": "45ddf337",
   "metadata": {
    "pycharm": {
     "name": "#%% md\n"
    }
   },
   "source": [
    "Generatory mogą nie tylko produkować wartości, ale też je konsumować:"
   ]
  },
  {
   "cell_type": "code",
   "execution_count": 2,
   "id": "8d4c3ea1",
   "metadata": {
    "pycharm": {
     "name": "#%%\n"
    }
   },
   "outputs": [
    {
     "name": "stdout",
     "output_type": "stream",
     "text": [
      "hello 1\n",
      "counter: 0\n",
      "0\n",
      "po yield None\n",
      "counter: 1\n",
      "1\n",
      "po yield None\n",
      "counter: 2\n",
      "2\n",
      "po yield first message\n",
      "counter: 3\n",
      "3\n"
     ]
    }
   ],
   "source": [
    "def hello():\n",
    "    print(\"hello 1\")\n",
    "    counter = 0\n",
    "    while True:\n",
    "        print(f\"counter: {counter}\")\n",
    "        value = yield counter\n",
    "        print(f\"po yield {value}\")\n",
    "        counter += 1\n",
    "\n",
    "printer = hello()\n",
    "\n",
    "print(next(printer))\n",
    "print(next(printer))\n",
    "print(next(printer))\n",
    "print(printer.send(\"first message\"))\n",
    "printer.close()\n",
    "# printer.send(\"second message\")\n",
    "\n",
    "# for i in range(10):\n",
    "#     printer.send(f\"looping - current index is {i}\")"
   ]
  },
  {
   "cell_type": "markdown",
   "id": "6655059a",
   "metadata": {
    "pycharm": {
     "name": "#%% md\n"
    }
   },
   "source": [
    "Praktycznym i niezwiązanym z wydajnością zastosowaniem generatorów jest pisanie funkcji, które \"otaczają\" inne - słowo kluczowe `yield` wstrzymuje wykonanie funkcji \"otaczającej\" i oddaje kontrolę do funkcji wywołującej generator aż do ponownego wywołania lub powrotu z funkcji wywołującej. Wówczas wykonanie funkcji okalającej kontynuowane jest od linijki po słowie kluczowym `yield`. Przykładem może być pisanie managerów kontekstu z użyciem dekoratora `@contextlib.contextmanager`:"
   ]
  },
  {
   "cell_type": "code",
   "execution_count": null,
   "id": "eb1127e9",
   "metadata": {
    "pycharm": {
     "name": "#%%\n"
    }
   },
   "outputs": [],
   "source": [
    "from contextlib import contextmanager\n",
    "\n",
    "@contextmanager\n",
    "def managed_resource(*args, **kwds):\n",
    "    # Code to acquire resource, e.g.:\n",
    "    resource = acquire_resource(*args, **kwds)\n",
    "    try:\n",
    "        yield resource\n",
    "    finally:\n",
    "        # Code to release resource, e.g.:\n",
    "        release_resource(resource)\n",
    "\n",
    "with managed_resource() as r:\n",
    "    zrob_cos_z_r(r)\n",
    "    zrob_cos_jeszcze()"
   ]
  },
  {
   "cell_type": "markdown",
   "id": "3f02f9c3",
   "metadata": {
    "pycharm": {
     "name": "#%% md\n"
    }
   },
   "source": [
    "W powyższym przykładzie zamiast tworzyć klasę implementującą protokół contextmanagera (metody `__enter__` i `__exit__`) wystarczy napisać funkcję, która dokona alokacji i inicjalizacji zasobu przed `yield`, a zwolnienie i cleanup po. Warto zauważyć \"opakowanie\" linijki z `yield` w blok `try ... finally` - przekazujemy kontrolę do kodu poza naszym managerem i nie mamy pewności, że nie zostanie podniesiony wyjątek. `finally` w tym miejscu zapewnia, że zasób zostanie posprzątany. Funkcja musi też zwracać dokładnie jedną wartość - najlepiej zarządzany zasób, który zostanie przypisany do zmiennej w ramach klazuli `with ... as <zmienna>`. Kod generatora po `yield` zostanie wywołany, gdy blok kodu wewnątrz klauzuli `with ...` zostatnie w całości wykonany, tak samo jak funkcja `__exit__` w przypadku standardowej implementacji.\n",
    "\n",
    "\n",
    "Analogiczny pomysł wykorzystuje `pytest` w mechanizmie `fixtures`:"
   ]
  },
  {
   "cell_type": "code",
   "execution_count": null,
   "id": "ecab2db6",
   "metadata": {
    "pycharm": {
     "name": "#%%\n"
    }
   },
   "outputs": [],
   "source": [
    "@pytest.fixture()\n",
    "def tmp_dir_without_files(tmpdir):\n",
    "    tmp = Path(tmpdir)\n",
    "    tmp.mkdir(exist_ok=True)\n",
    "    (tmp / \"inner_folder\").mkdir()\n",
    "    yield tmp\n",
    "    shutil.rmtree(tmp)"
   ]
  }
 ],
 "metadata": {
  "kernelspec": {
   "display_name": "Python 3 (ipykernel)",
   "language": "python",
   "name": "python3"
  },
  "language_info": {
   "codemirror_mode": {
    "name": "ipython",
    "version": 3
   },
   "file_extension": ".py",
   "mimetype": "text/x-python",
   "name": "python",
   "nbconvert_exporter": "python",
   "pygments_lexer": "ipython3",
   "version": "3.11.4"
  }
 },
 "nbformat": 4,
 "nbformat_minor": 5
}
