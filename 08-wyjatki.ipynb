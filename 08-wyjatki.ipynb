{
 "cells": [
  {
   "cell_type": "markdown",
   "id": "7a5f63e0",
   "metadata": {
    "pycharm": {
     "name": "#%% md\n"
    }
   },
   "source": [
    "# Wyjątki\n",
    "## Generowanie wyjątków\n",
    "\n",
    "Gdy wykonujemy operację, która może się nie udać (np. zapis/odczyt z dysku lub sieci) musimy być przygotowani, że rzuci ona wyjątek, czyli obiekt, który przekazuje informację o błędzie w górę, potencjalnie aż do zatrzymania wykonania programu. Gdy to my implementujemy taką operację, możemy sami rzucić wyjątek by dać znać, że zaszła sytuacja, która nie jest oczekiwana - inny sposób to byłoby zwracanie błędu jako jednego ze swoich wyników, jak w Go. Wtedy jednak muszą być one natychmiast obsłużone, mimo że sensowne miejsce gdzie chcielibyśmy tego dokonać może być w zupełnie innej warstwie aplikacji. Aby rzucić wyjątek należy:"
   ]
  },
  {
   "cell_type": "code",
   "execution_count": null,
   "id": "12d6fd46",
   "metadata": {
    "pycharm": {
     "name": "#%%\n"
    }
   },
   "outputs": [],
   "source": [
    "raise Exception()"
   ]
  },
  {
   "cell_type": "markdown",
   "id": "e95bde09",
   "metadata": {
    "pycharm": {
     "name": "#%% md\n"
    }
   },
   "source": [
    "lub:"
   ]
  },
  {
   "cell_type": "code",
   "execution_count": null,
   "id": "be97ae08",
   "metadata": {
    "pycharm": {
     "name": "#%%\n"
    }
   },
   "outputs": [],
   "source": [
    "raise Exception"
   ]
  },
  {
   "cell_type": "markdown",
   "id": "e888ac25",
   "metadata": {
    "pycharm": {
     "name": "#%% md\n"
    }
   },
   "source": [
    "Drugi przypadek spowoduje stworzenie instancji implicite przy użyciu konstruktora bezparametrowego.\n",
    "Zazwyczaj możemy również podać jakąś dodatkową informację:"
   ]
  },
  {
   "cell_type": "code",
   "execution_count": null,
   "id": "25538806",
   "metadata": {
    "pycharm": {
     "name": "#%%\n"
    }
   },
   "outputs": [],
   "source": [
    "raise Exception(\"network is down\")"
   ]
  },
  {
   "cell_type": "markdown",
   "id": "0a595a06",
   "metadata": {
    "pycharm": {
     "name": "#%% md\n"
    }
   },
   "source": [
    "## Blok try-except\n",
    "Gdy wyjątek jest spodziewanym zachowaniem i nie chcemy z tego powodu zatrzymywać całego programu - np.: możemy się spodziewać utraty łączności sieciowej - możemy taki wyjątek \"złapać\":"
   ]
  },
  {
   "cell_type": "code",
   "execution_count": null,
   "id": "bdd156a9",
   "metadata": {
    "pycharm": {
     "name": "#%%\n"
    }
   },
   "outputs": [],
   "source": [
    "def ale_naprawde_otworz():\n",
    "    open(\"nie_ma_takiego_pliku.txt\", \"r\")\n",
    "    \n",
    "def otwieraj():\n",
    "    ale_naprawde_otworz()\n",
    "\n",
    "otwieraj()\n",
    "\n",
    "# def ale_naprawde_otworz():\n",
    "#     open(\"nie_ma_takiego_pliku.txt\", \"r\")\n",
    "#     print(\"po błędzie\")\n",
    "    \n",
    "# def otwieraj():\n",
    "#     ale_naprawde_otworz()\n",
    "#     print(\"tu też nic\")\n",
    "\n",
    "    \n",
    "# try:\n",
    "#     otwieraj()\n",
    "# except Exception as e:\n",
    "#     if isinstance(FileNotFoundError, e):\n",
    "#     print(\"Nic się nie stało, idź dalej\")\n",
    "# print(\"obsłużone\")\n",
    "\n",
    "# try:\n",
    "#     f = open(\"nie_ma_takiego_pliku.txt\", \"r\")\n",
    "#     print(f.readlines())\n",
    "# except FileNotFoundError as e:\n",
    "#     print(e)\n",
    "# finally:\n",
    "#     f.close()"
   ]
  },
  {
   "cell_type": "markdown",
   "id": "da9f73fb",
   "metadata": {
    "pycharm": {
     "name": "#%% md\n"
    }
   },
   "source": [
    "Blok kodu pod `finally` wykona się zawsze - niezależnie czy nastąpi wyjątek (nawet niespodziewany) czy nie. Blok po `else` tylko jeśli żaden z obsługiwanych w tym miejscu wyjątków nie nastapi - przydatne, zamiast dodawania dodatkowego kodu pod `try`, który mógłby przypadkowo rzucić jeden z obsługiwanych wyjątków z innego miejsca niż spodziewane. Po `except` następuje typ wyjątku - łapane i obsługiwane są wyjątki tego typu lub klas dziedziczących po nim. Można też łapać wszystkie wyjątki nie podając łapanego typu lub łąpiąc typ `BaseException` po którym wszystkie wyjątki dziedziczą, ale tracimy wtedy istotne informacje i jest to tzw. *code smell*. Blok kodu po `except` wykonuje się tylko gdy wyjątek określonego typu wystąpi. Takich klauzul może być wiele i jedna klauzula może obsługiwac więcej wyjatków:"
   ]
  },
  {
   "cell_type": "code",
   "execution_count": null,
   "id": "1370396c",
   "metadata": {
    "pycharm": {
     "name": "#%%\n"
    }
   },
   "outputs": [],
   "source": [
    "try:\n",
    "    f = open(\"samp1le.txt\", \"r\")\n",
    "#     f = open(\"sample.txt\", \"r\", encoding=\"no_such_encoding\")\n",
    "#     print(f.readlines())\n",
    "    print(f.read())\n",
    "#     f.write(\"whatev4r\")\n",
    "except FileNotFoundError | LookupError as e:\n",
    "    print(e)\n",
    "except UnsupportedOperation:\n",
    "    print(\"File not open for writing - you can only read\")\n",
    "else:\n",
    "    print(f\"There are {len(f.readlines)} lines in this file\")\n",
    "finally:\n",
    "    f.close()"
   ]
  },
  {
   "cell_type": "markdown",
   "id": "b2ad6ffd",
   "metadata": {
    "pycharm": {
     "name": "#%% md\n"
    }
   },
   "source": [
    "Podczas obsługi wyjątku, np. na granicy warstwy w jakiejś warstwowej aplikacji, może się okazać, że poza zalogowaniem nie można danego wyjatku zignorować. Wtedy często opakowuje się bardziej \"niskopoziomowy\" wyjątek w bardziej \"wysokopoziomowy\" i rzuca dalej:"
   ]
  },
  {
   "cell_type": "code",
   "execution_count": null,
   "id": "28c0da87",
   "metadata": {
    "pycharm": {
     "name": "#%%\n"
    }
   },
   "outputs": [],
   "source": [
    "import requests\n",
    "import json\n",
    "\n",
    "class StockApiException(Exception):\n",
    "    pass\n",
    "\n",
    "class ProductApiClient:\n",
    "    \n",
    "    def __init__(self, base_url):\n",
    "        self.base_url = base_url\n",
    "    \n",
    "    def get_availability(self, product_id):\n",
    "        try:\n",
    "            result = requests.get(f\"{self.base_url}/products/{product_id}/\")\n",
    "            return json.loads(result.content)\n",
    "        except requests.exceptions.ConnectionError as e: \n",
    "            raise StockApiException(f\"can't get product availability for {product_id}\") from e\n",
    "    \n",
    "client = ProductApiClient(\"http://superfajnynieistniejącysklep.pl/\")\n",
    "client.get_availability(123)\n",
    "            "
   ]
  },
  {
   "cell_type": "markdown",
   "id": "055a2eef",
   "metadata": {
    "pycharm": {
     "name": "#%% md\n"
    }
   },
   "source": [
    "## Standardowe wyjątki\n",
    "Biblioteka standardowa obfituje w różne wbudowane typy wyjątków (opisane [tu](https://docs.python.org/3.9/library/exceptions.html#bltin-exceptions)). Wszystkie dziedziczą po `BaseException`, dzięki czemu potrafią przekazywać dalej *traceback* i akceptują argumenty, udostępniane potem przez pole `args`.\n",
    "Hierarchia wbudowanych wyjątków wygląda tak:\n",
    "```\n",
    "BaseException\n",
    " +-- SystemExit\n",
    " +-- KeyboardInterrupt\n",
    " +-- GeneratorExit\n",
    " +-- Exception\n",
    "      +-- StopIteration\n",
    "      +-- StopAsyncIteration\n",
    "      +-- ArithmeticError\n",
    "      |    +-- FloatingPointError\n",
    "      |    +-- OverflowError\n",
    "      |    +-- ZeroDivisionError\n",
    "      +-- AssertionError\n",
    "      +-- AttributeError\n",
    "      +-- BufferError\n",
    "      +-- EOFError\n",
    "      +-- ImportError\n",
    "      |    +-- ModuleNotFoundError\n",
    "      +-- LookupError\n",
    "      |    +-- IndexError\n",
    "      |    +-- KeyError\n",
    "      +-- MemoryError\n",
    "      +-- NameError\n",
    "      |    +-- UnboundLocalError\n",
    "      +-- OSError\n",
    "      |    +-- BlockingIOError\n",
    "      |    +-- ChildProcessError\n",
    "      |    +-- ConnectionError\n",
    "      |    |    +-- BrokenPipeError\n",
    "      |    |    +-- ConnectionAbortedError\n",
    "      |    |    +-- ConnectionRefusedError\n",
    "      |    |    +-- ConnectionResetError\n",
    "      |    +-- FileExistsError\n",
    "      |    +-- FileNotFoundError\n",
    "      |    +-- InterruptedError\n",
    "      |    +-- IsADirectoryError\n",
    "      |    +-- NotADirectoryError\n",
    "      |    +-- PermissionError\n",
    "      |    +-- ProcessLookupError\n",
    "      |    +-- TimeoutError\n",
    "      +-- ReferenceError\n",
    "      +-- RuntimeError\n",
    "      |    +-- NotImplemented\n",
    "      tedError\n",
    "      |    +-- RecursionError\n",
    "      +-- SyntaxError\n",
    "      |    +-- IndentationError\n",
    "      |         +-- TabError\n",
    "      +-- SystemError\n",
    "      +-- TypeError\n",
    "      +-- ValueError\n",
    "      |    +-- UnicodeError\n",
    "      |         +-- UnicodeDecodeError\n",
    "      |         +-- UnicodeEncodeError\n",
    "      |         +-- UnicodeTranslateError\n",
    "      +-- Warning\n",
    "           +-- DeprecationWarning\n",
    "           +-- PendingDeprecationWarning\n",
    "           +-- RuntimeWarning\n",
    "           +-- SyntaxWarning\n",
    "           +-- UserWarning\n",
    "           +-- FutureWarning\n",
    "           +-- ImportWarning\n",
    "           +-- UnicodeWarning\n",
    "           +-- BytesWarning\n",
    "           +-- ResourceWarning\n",
    "```"
   ]
  },
  {
   "cell_type": "markdown",
   "id": "653e945a",
   "metadata": {
    "pycharm": {
     "name": "#%% md\n"
    }
   },
   "source": [
    "## Tworzenie własnych wyjątków\n",
    "Aby utworzyć własny wyjątek należy odziedziczyć po typie `Exception`. Typ `BaseException` nie jest przeznaczony do dziedziczenia przez klasy użytkownika. Przykład:"
   ]
  },
  {
   "cell_type": "code",
   "execution_count": null,
   "id": "daa37629",
   "metadata": {
    "pycharm": {
     "name": "#%%\n"
    }
   },
   "outputs": [],
   "source": [
    "class ItemUnavailable(Exception):\n",
    "    def __init__(self, item_id, reason, *args, **kwargs):\n",
    "        self.__item_id = item_id\n",
    "        self.__reason = reason\n",
    "        super(ItemUnavailable, self).__init__(*args, **kwargs)\n",
    "    \n",
    "    def affected_item(self):\n",
    "        return self.__item_id\n",
    "\n",
    "    def why(self):\n",
    "        return self.__reason\n",
    "\n",
    "try:\n",
    "    raise ItemUnavailable(\"1231221302938102\", \"Out of stock\", \"Can't get item\")\n",
    "except ItemUnavailable as e:\n",
    "    print(e)\n",
    "    print(e.affected_item())\n",
    "    print(e.why())"
   ]
  }
 ],
 "metadata": {
  "kernelspec": {
   "display_name": "Python 3 (ipykernel)",
   "language": "python",
   "name": "python3"
  },
  "language_info": {
   "codemirror_mode": {
    "name": "ipython",
    "version": 3
   },
   "file_extension": ".py",
   "mimetype": "text/x-python",
   "name": "python",
   "nbconvert_exporter": "python",
   "pygments_lexer": "ipython3",
   "version": "3.11.4"
  }
 },
 "nbformat": 4,
 "nbformat_minor": 5
}
