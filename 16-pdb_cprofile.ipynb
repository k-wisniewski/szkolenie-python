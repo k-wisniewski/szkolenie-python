{
 "cells": [
  {
   "cell_type": "markdown",
   "id": "7f1a1198",
   "metadata": {},
   "source": [
    "# Debugowanie i profilowanie kodu\n",
    "\n",
    "## PDB\n",
    "Python posiada zestaw narzędzi do debugowania, który jest wbudowany niemalże w każdą dystrybucję interpretera. Głównym jego elementem jest PDB, czyli po prostu Python Debugger. Aby uruchomić PDB można dodać po prostu następującą linijkę:"
   ]
  },
  {
   "cell_type": "code",
   "execution_count": null,
   "id": "8e041657",
   "metadata": {},
   "outputs": [],
   "source": [
    "breakpoint()"
   ]
  },
  {
   "cell_type": "markdown",
   "id": "02af7a06",
   "metadata": {},
   "source": [
    "lub:"
   ]
  },
  {
   "cell_type": "code",
   "execution_count": null,
   "id": "14c6ed01",
   "metadata": {},
   "outputs": [],
   "source": [
    "import pdb\n",
    "pdb.set_trace()"
   ]
  },
  {
   "cell_type": "markdown",
   "id": "5d0e2ed1",
   "metadata": {},
   "source": [
    "Czasami możemy chcieć zdebugować miejsce w kodzie, które rzuca wyjątkiem. Wówczas - jeśli jesteśmy w stanie wywołać błędną sytuację - możemy uruchomić debugowanie w trybie post mortem tak:"
   ]
  },
  {
   "cell_type": "code",
   "execution_count": null,
   "id": "f910adee",
   "metadata": {},
   "outputs": [],
   "source": [
    "import pdb\n",
    "import crashing_module\n",
    "\n",
    "crashing_module.crash()\n",
    "pdb.pm()"
   ]
  },
  {
   "cell_type": "markdown",
   "id": "4009c9de",
   "metadata": {},
   "source": [
    "Wówczas `pdb` skorzysta z informacji o tracebacku zapisanej w `sys.last_traceback` i otworzy sesję debugowania w stanie i miejscu po wystąpieniu wyjątku.\n",
    "\n",
    "### Przydatne komendy w trybie debugowania:\n",
    "- **b [miejsce]** - ustawia breakpoint w danym miejscu\n",
    "- **c** - kontynuuje wykonanie aż do kolejnego breakpointu lub do końca programu\n",
    "- **s** - wykonuje krok - albo wykonuje wywołanie funkcji wewnątrz której natychmiast staje albo przechodzi do kolejnej linii\n",
    "- **n** - przechodzi do nowej linii w danej ramce\n",
    "- **ll** - wypisuje aktualną linijkę kodu i jej otoczenie wewnątrz aktualnej ramki\n",
    "- **u** - ramka w górę\n",
    "- **d** - ramka w dół\n",
    "- **w** - gdzie aktualnie znajduje się wykonanie\n",
    "- **p [wyrażenie]** - wypisuje wartość wyrażenia\n",
    "...\n",
    "Wszystkie można znaleźć [tu](https://docs.python.org/3/library/pdb.html)\n"
   ]
  },
  {
   "cell_type": "markdown",
   "id": "3454d661",
   "metadata": {},
   "source": [
    "# cProfile\n",
    "\n",
    "Czasami musimy ustalić, które kawałki kodu są wolne i z jakiego powodu. W tym celu przydają się profilery, z których niektóre znajdują się bezpośrednio w bibliotece standardowej Pythona. Dziś poznamy `cProfile`, który umożliwia:\n",
    "- mierzenie czasu wykonania kodu\n",
    "- mierzenie czasu wykonania kodu z rozbiciem na kroki\n",
    "- sprawdzenie ile razy wykonały się poszczególne funkcje\n",
    "- zrzucenie tych danych w formacie prostym do wizualizacji (np.: modułem `snakeviz`)"
   ]
  },
  {
   "cell_type": "code",
   "execution_count": null,
   "id": "64087c74",
   "metadata": {},
   "outputs": [],
   "source": [
    "import cProfile\n",
    "\n",
    "code1 = \"\"\"\n",
    "lst = []\n",
    "for i in range(10000):\n",
    "    lst.append(i)\n",
    "\"\"\"\n",
    "\n",
    "code2 = \"\"\"\n",
    "lst = [i for i in range(10000)]\n",
    "\"\"\"\n",
    "cProfile.run(code1)\n",
    "cProfile.run(code2)"
   ]
  },
  {
   "cell_type": "markdown",
   "id": "6f98b91c",
   "metadata": {},
   "source": [
    "Czasami chcemy mieć większą swobodę pracy z danymi zebranymi przez `cProfile` - wówczas możemy skorzystać z modułu `pstats`. Przykładowo, chcemy znaleźć 2 funkcje, które są wykonywane najwięcej razy. Robimy to tak:"
   ]
  },
  {
   "cell_type": "code",
   "execution_count": 5,
   "id": "5433a7ee",
   "metadata": {},
   "outputs": [
    {
     "name": "stdout",
     "output_type": "stream",
     "text": [
      "         3007 function calls in 0.002 seconds\n",
      "\n",
      "   Ordered by: call count\n",
      "   List reduced from 6 to 2 due to restriction <2>\n",
      "\n",
      "   ncalls  tottime  percall  cumtime  percall filename:lineno(function)\n",
      "     2003    0.000    0.000    0.000    0.000 {method 'append' of 'list' objects}\n",
      "     1000    0.000    0.000    0.001    0.000 /tmp/ipykernel_14863/2659033348.py:1(dodaj)\n",
      "\n",
      "\n"
     ]
    }
   ],
   "source": [
    "\n",
    "def dodaj(l, el):\n",
    "    l.append(el)\n",
    "\n",
    "def sortuj(l):\n",
    "    res = []\n",
    "    for el in sorted(l):\n",
    "        res.append(el)\n",
    "    return res\n",
    "    \n",
    "def main():\n",
    "    lst = [1,2,3]\n",
    "    for i in range(1000):\n",
    "        dodaj(lst, 2 * i)\n",
    "    lst = sortuj(lst)\n",
    "\n",
    "if __name__ == '__main__':\n",
    "    import cProfile, pstats\n",
    "    profiler = cProfile.Profile()\n",
    "    profiler.enable()\n",
    "    main()\n",
    "    profiler.disable()\n",
    "    stats = pstats.Stats(profiler).sort_stats('ncalls')\n",
    "    stats.print_stats(2)"
   ]
  },
  {
   "cell_type": "markdown",
   "id": "5705c396",
   "metadata": {},
   "source": [
    "### Wizualizacja danych z cProfile\n",
    "Aby zwizualizować dane zebrane przez cProfile wystarczy, że zainstalujemy bibliotekę `snakeviz`:\n",
    "```\n",
    "pip install snakeviz\n",
    "```\n",
    "\n",
    "Następnie jeśli chcemy jej użyć w Jupyterze musimy załadować rozszerzenie:\n",
    "```\n",
    "%load_ext snakeviz\n",
    "```\n",
    "\n",
    "i wywołać:\n",
    "```\n",
    "%snakeviz nazwa_funkcji()\n",
    "```"
   ]
  },
  {
   "cell_type": "code",
   "execution_count": 7,
   "id": "aa739767",
   "metadata": {},
   "outputs": [
    {
     "name": "stdout",
     "output_type": "stream",
     "text": [
      "The snakeviz extension is already loaded. To reload it, use:\n",
      "  %reload_ext snakeviz\n",
      "cześć!\n",
      "cześć!\n",
      "cześć!\n",
      "cześć!\n",
      "cześć!\n",
      "cześć!\n",
      "cześć!\n",
      "cześć!\n",
      "cześć!\n",
      "cześć!\n",
      "cześć!\n",
      "cześć!\n",
      " \n",
      "*** Profile stats marshalled to file '/tmp/tmp1g5x0xwy'.\n",
      "Embedding SnakeViz in this document...\n",
      "<function display at 0x7f7eea9374c0>\n"
     ]
    },
    {
     "data": {
      "text/html": [
       "\n",
       "<iframe id='snakeviz-fa43fbe6-3073-11ee-9ed6-0242ac110003' frameborder=0 seamless width='100%' height='1000'></iframe>\n",
       "<script>document.getElementById(\"snakeviz-fa43fbe6-3073-11ee-9ed6-0242ac110003\").setAttribute(\"src\", \"http://\" + document.location.hostname + \":8080/snakeviz/%2Ftmp%2Ftmp1g5x0xwy\")</script>\n"
      ],
      "text/plain": [
       "<IPython.core.display.HTML object>"
      ]
     },
     "metadata": {},
     "output_type": "display_data"
    }
   ],
   "source": [
    "# %pip install snakeviz\n",
    "import random\n",
    "\n",
    "def print_msg():\n",
    "    for i in range(12):\n",
    "        print(\"cześć!\")\n",
    "\n",
    "\n",
    "def generate_random_data():\n",
    "    data = [random.randint(0, 99) for p in range(0, 1000)]\n",
    "    return data\n",
    "\n",
    "# Function to search \n",
    "def search_function(data):\n",
    "    for i in data:\n",
    "        if i in [111, 222, 333, 444, 555, 666]:\n",
    "            print(\"znaleziono: \", i)\n",
    "\n",
    "def main():\n",
    "    data=generate_random_data()\n",
    "    search_function(data)\n",
    "    print_msg()\n",
    "\n",
    "\n",
    "%load_ext snakeviz\n",
    "%snakeviz main()"
   ]
  },
  {
   "cell_type": "markdown",
   "id": "0e1fc599",
   "metadata": {},
   "source": [
    "## *Zadanie*\n",
    "\n",
    "Spróbuj sprofilować dowolną funkcję z `watcher_service.py`. Co zajmuje najwięcej czasu? Jeśli napotykasz na problemy użyj `PDB` by poruszać się po wykonującym się kodzie i zdiagnozować ich przyczynę."
   ]
  }
 ],
 "metadata": {
  "kernelspec": {
   "display_name": "Python 3 (ipykernel)",
   "language": "python",
   "name": "python3"
  },
  "language_info": {
   "codemirror_mode": {
    "name": "ipython",
    "version": 3
   },
   "file_extension": ".py",
   "mimetype": "text/x-python",
   "name": "python",
   "nbconvert_exporter": "python",
   "pygments_lexer": "ipython3",
   "version": "3.11.4"
  }
 },
 "nbformat": 4,
 "nbformat_minor": 5
}
