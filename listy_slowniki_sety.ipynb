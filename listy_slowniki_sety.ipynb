{
 "cells": [
  {
   "cell_type": "markdown",
   "id": "6b045395",
   "metadata": {},
   "source": [
    "## Lista\n",
    "Lista jest chyba najbardziej użytetcznym typem danych w Pythonie. Reprezentuje on listę pewnych wartości występujących kolejno po sobie. Elementy nie muszą być tego samego typu, jednak zazwyczaj pewnie łatwiej o nich myśleć, gdy są:"
   ]
  },
  {
   "cell_type": "code",
   "execution_count": null,
   "id": "c97d60d0",
   "metadata": {},
   "outputs": [],
   "source": [
    "l = [1,2,3, \"coś\", True]\n",
    "print(l)"
   ]
  },
  {
   "cell_type": "markdown",
   "id": "e9dcc1bd",
   "metadata": {},
   "source": [
    "Listy automatycznie alokują potrzebną pamięć, a gdy to konieczne są w stanie zaalokować jej więcej lub automatycznie ją zwolnić. W tym aspekcie przypominają typ `ArrayList` z Javy lub `vector` z C++."
   ]
  },
  {
   "cell_type": "code",
   "execution_count": 2,
   "id": "f1b149f6",
   "metadata": {},
   "outputs": [
    {
     "data": {
      "text/plain": [
       "[1, 4, 5, 5, 6, 7, 8, 9]"
      ]
     },
     "execution_count": 2,
     "metadata": {},
     "output_type": "execute_result"
    }
   ],
   "source": [
    "lst = [1,2,3,4,5,6,7,8,9]"
   ]
  },
  {
   "cell_type": "markdown",
   "id": "5c58b4aa",
   "metadata": {},
   "source": [
    "### Dodawanie elementu"
   ]
  },
  {
   "cell_type": "code",
   "execution_count": null,
   "id": "f1c0e442",
   "metadata": {},
   "outputs": [],
   "source": [
    "lst.append(10)"
   ]
  },
  {
   "cell_type": "markdown",
   "id": "b4392b26",
   "metadata": {},
   "source": [
    "### Usuwanie elementu"
   ]
  },
  {
   "cell_type": "code",
   "execution_count": null,
   "id": "6983ffc3",
   "metadata": {},
   "outputs": [],
   "source": [
    "del lst[1]"
   ]
  },
  {
   "cell_type": "markdown",
   "id": "bd531abc",
   "metadata": {},
   "source": [
    "### Usuwanie elementu z końca listy ze zwróceniem usuwanego elementu"
   ]
  },
  {
   "cell_type": "code",
   "execution_count": null,
   "id": "29d1f3be",
   "metadata": {},
   "outputs": [],
   "source": [
    "lst.pop()"
   ]
  },
  {
   "cell_type": "markdown",
   "id": "4b339db4",
   "metadata": {},
   "source": [
    "### Wymiana elementu list na inny"
   ]
  },
  {
   "cell_type": "code",
   "execution_count": null,
   "id": "32c9583a",
   "metadata": {},
   "outputs": [],
   "source": [
    "lst[1] = 5"
   ]
  },
  {
   "cell_type": "markdown",
   "id": "c39d9149",
   "metadata": {},
   "source": [
    "### Mierzenie długości listy"
   ]
  },
  {
   "cell_type": "code",
   "execution_count": null,
   "id": "05505344",
   "metadata": {},
   "outputs": [],
   "source": [
    "len(lst)"
   ]
  },
  {
   "cell_type": "markdown",
   "id": "c4df1fbe",
   "metadata": {},
   "source": [
    "### Odwracanie listy"
   ]
  },
  {
   "cell_type": "code",
   "execution_count": null,
   "id": "462f98e2",
   "metadata": {},
   "outputs": [],
   "source": [
    "lst.reverse()\n",
    "lst"
   ]
  },
  {
   "cell_type": "markdown",
   "id": "ef4dc148",
   "metadata": {},
   "source": [
    "### Sortowanie listy"
   ]
  },
  {
   "cell_type": "code",
   "execution_count": null,
   "id": "22a1e005",
   "metadata": {},
   "outputs": [],
   "source": [
    "lst.sort()\n",
    "lst"
   ]
  },
  {
   "cell_type": "markdown",
   "id": "4acab7b7",
   "metadata": {},
   "source": [
    "## Slice'y\n",
    "\n",
    "### *Zadanie*\n",
    "Dana jest lista L: `[17, 19, 21, 22, 24, 26, 28, 29, 31, 33, 35, 36, 38, 40, 42, 43, 45, 47, 49, 50]`\n",
    "Wymień co 4 element listy L na `100`, a następnie ją posortuj. Jakie liczby znajduja się pomiędzy 3 a 11 elementem po wykonaniu tej zamiany i posortowaniu? Zwróć je w osobnej liście. \n",
    "\n",
    "### Elementy z indeksami z przedziału [2, 6)"
   ]
  },
  {
   "cell_type": "code",
   "execution_count": null,
   "id": "e42936bd",
   "metadata": {},
   "outputs": [],
   "source": [
    "lst[2:6]"
   ]
  },
  {
   "cell_type": "markdown",
   "id": "4d3c4ea5",
   "metadata": {},
   "source": [
    "### 5 pierwszych elementów"
   ]
  },
  {
   "cell_type": "code",
   "execution_count": null,
   "id": "166b8a96",
   "metadata": {},
   "outputs": [],
   "source": [
    "lst[:5]"
   ]
  },
  {
   "cell_type": "markdown",
   "id": "86be6372",
   "metadata": {},
   "source": [
    "### Ostatnie 3 elementy"
   ]
  },
  {
   "cell_type": "code",
   "execution_count": null,
   "id": "ccccdd2f",
   "metadata": {},
   "outputs": [],
   "source": [
    "lst[:-3]"
   ]
  },
  {
   "cell_type": "markdown",
   "id": "7497105c",
   "metadata": {},
   "source": [
    "### Ostatni element"
   ]
  },
  {
   "cell_type": "code",
   "execution_count": null,
   "id": "2c4956e5",
   "metadata": {},
   "outputs": [],
   "source": [
    "lst[:-1]"
   ]
  },
  {
   "cell_type": "markdown",
   "id": "d85d5de7",
   "metadata": {},
   "source": [
    "### Kopia listy"
   ]
  },
  {
   "cell_type": "code",
   "execution_count": null,
   "id": "f32feba7",
   "metadata": {},
   "outputs": [],
   "source": [
    "lst[:]"
   ]
  },
  {
   "cell_type": "markdown",
   "id": "90e43fae",
   "metadata": {},
   "source": [
    "### Co trzeci element"
   ]
  },
  {
   "cell_type": "code",
   "execution_count": null,
   "id": "bc8b7ea6",
   "metadata": {},
   "outputs": [],
   "source": [
    "lst[::3]"
   ]
  },
  {
   "cell_type": "markdown",
   "id": "a9418c71",
   "metadata": {},
   "source": [
    "### Lista od końca - inaczej"
   ]
  },
  {
   "cell_type": "code",
   "execution_count": null,
   "id": "fe22e107",
   "metadata": {},
   "outputs": [],
   "source": [
    "lst[::-1]"
   ]
  },
  {
   "cell_type": "markdown",
   "id": "1a11cf47",
   "metadata": {},
   "source": [
    "### Od przedostatniego, co drugi element"
   ]
  },
  {
   "cell_type": "code",
   "execution_count": null,
   "id": "9ffa3a40",
   "metadata": {},
   "outputs": [],
   "source": [
    "lst[-2::-2]"
   ]
  },
  {
   "cell_type": "markdown",
   "id": "a63533f8",
   "metadata": {},
   "source": [
    "## Tupla\n",
    "`Tuple` to typ podobny do typu `List`, jednak jego wartosci nie mogą być zmieniane. Formalnie krotka (ang. *tuple*) to element iloczynu kartenzjańskiego zbiorów wartości swoich współrzędnych:"
   ]
  },
  {
   "cell_type": "code",
   "execution_count": null,
   "id": "ff110224",
   "metadata": {},
   "outputs": [],
   "source": [
    "empty = ()\n",
    "single = (1,)\n",
    "double = (1, 'a')\n",
    "also_double = 1, 'a'"
   ]
  },
  {
   "cell_type": "code",
   "execution_count": null,
   "id": "68f9f480",
   "metadata": {},
   "outputs": [],
   "source": [
    "(1, 2, \"słony karmel\")"
   ]
  },
  {
   "cell_type": "markdown",
   "id": "4bee28d1",
   "metadata": {},
   "source": [
    "Ta trójka, czyli krotka długości 3 (mierzonej przy użyciu `len()`), pochodzi np. z iloczynu typów `int`x`int`x`str`. Tyle formalizmów, na codzień nie musimy się tym aż tak przejmować, skoro Python jest językiem dynamicznie typowanym. Patrzenie na `Tuple` jako na niezmienialną listę jest jednym z praktyczniejszych spojrzeń, innym jest zrozumienie do czego może się przydać. Przykładowo, gdy chcemy by *funkcja* zwróciła więcej niż 1 wynik na raz. Wówczas `Tuple` umożliwia nam uniknięcie konieczności definiowania specjalnej do tego klasy:"
   ]
  },
  {
   "cell_type": "code",
   "execution_count": null,
   "id": "18f0b753",
   "metadata": {},
   "outputs": [],
   "source": [
    "def calc_stats(s: str):\n",
    "    words = s.split()\n",
    "    letters = \"\".join(s.split())\n",
    "    lines = s.split(\"\\n\")\n",
    "    return (len(lines), len(words), len(letters))\n",
    "\n",
    "\n",
    "with open(\"sample.txt\") as f:\n",
    "    print(calc_stats(f.read()))"
   ]
  },
  {
   "cell_type": "markdown",
   "id": "14f3394f",
   "metadata": {},
   "source": [
    "Innym popularnym zastosowaniem `Tupli` jest tzw. *tuple unpacking* czyli możliwość przepisania kolejnych współrzędnych krotki na zmienne w jednym przypisaniu: "
   ]
  },
  {
   "cell_type": "code",
   "execution_count": null,
   "id": "f051a0bf",
   "metadata": {},
   "outputs": [],
   "source": [
    "a, b, c = (1, 2, 3)\n",
    "\n",
    "print(a)\n",
    "print(b)\n",
    "print(c)\n",
    "\n",
    "print(\"-\" * 80)\n",
    "def calc_stats(s: str):\n",
    "    words = s.split()\n",
    "    letters = \"\".join(s.split())\n",
    "    lines = s.split(\"\\n\")\n",
    "    return (len(lines), len(words), len(letters))\n",
    "\n",
    "\n",
    "with open(\"sample.txt\") as f:\n",
    "    lines, words, letters = calc_stats(f.read())\n",
    "    print(f\"there are {lines} lines\")\n",
    "    print(f\"there are {words} words\")\n",
    "    print(f\"there are {letters} letters\")"
   ]
  },
  {
   "cell_type": "markdown",
   "id": "b2dee8a7",
   "metadata": {},
   "source": [
    "Po Tupli można iterować:"
   ]
  },
  {
   "cell_type": "code",
   "execution_count": null,
   "id": "b55df817",
   "metadata": {},
   "outputs": [],
   "source": [
    "for i in (1,2,3,4):\n",
    "    print(i)"
   ]
  },
  {
   "cell_type": "markdown",
   "id": "446d444a",
   "metadata": {},
   "source": [
    "Oraz je porównywać (leksykograficznie):"
   ]
  },
  {
   "cell_type": "code",
   "execution_count": null,
   "id": "85948da7",
   "metadata": {},
   "outputs": [],
   "source": [
    "(1,2) < (1,2)"
   ]
  },
  {
   "cell_type": "code",
   "execution_count": null,
   "id": "9e30f0cf",
   "metadata": {},
   "outputs": [],
   "source": [
    "(1,2) < (1,2,3)"
   ]
  },
  {
   "cell_type": "markdown",
   "id": "e6ba9baf",
   "metadata": {},
   "source": [
    "## Słownik\n",
    "\n",
    "### Wprowadzenie\n",
    "Słownik mapuje klucze na wartości, bez zachowania kolejności (w rzeczywistości od Pythona 3.6, zachowywana jest kolejność wpisywania ich do słownika, ale to szczegół implementacyjny). Słowniki nie muszą przechowywać kluczy ani wartości jednego typu, a definiujemy następująco:"
   ]
  },
  {
   "cell_type": "code",
   "execution_count": null,
   "id": "54e2c235",
   "metadata": {},
   "outputs": [],
   "source": [
    "{1: 2, \"d\": \"daf\"}"
   ]
  },
  {
   "cell_type": "markdown",
   "id": "fb703c28",
   "metadata": {},
   "source": [
    "### Pobieranie wartości elementu"
   ]
  },
  {
   "cell_type": "code",
   "execution_count": null,
   "id": "d8f425af",
   "metadata": {},
   "outputs": [],
   "source": [
    "d = {\"obiadek\": \"gerberek\", \"kolacja\": \"kaszka\", \"śniadanie\": \"mleko\"}\n",
    "d[\"obiadek\"]"
   ]
  },
  {
   "cell_type": "markdown",
   "id": "ea787f50",
   "metadata": {},
   "source": [
    "Gdy jednak klucza nie ma w słowniku, rzucany jest wyjątek:"
   ]
  },
  {
   "cell_type": "code",
   "execution_count": null,
   "id": "e678c702",
   "metadata": {},
   "outputs": [],
   "source": [
    "d = {\"obiadek\": \"gerberek\", \"kolacja\": \"kaszka\", \"śniadanie\": \"mleko\"}\n",
    "d[\"podwieczorek\"]"
   ]
  },
  {
   "cell_type": "markdown",
   "id": "8e06646f",
   "metadata": {},
   "source": [
    "Możemy też użyć metody `get`, która zwróci zamiast tego `None`, lub wartość domyślną podaną w drugim argumencie:"
   ]
  },
  {
   "cell_type": "code",
   "execution_count": null,
   "id": "69b95f7d",
   "metadata": {},
   "outputs": [],
   "source": [
    "d = {\"obiadek\": \"gerberek\", \"kolacja\": \"kaszka\", \"śniadanie\": \"mleko\"}\n",
    "print(d.get(\"podwieczorek\"))\n",
    "print(d.get(\"podwieczorek\", \"biszkopty\"))\n",
    "print(d.get(\"obiadek\"))\n",
    "print(d.get(\"obiadek\", \"biszkopty\"))"
   ]
  },
  {
   "cell_type": "markdown",
   "id": "c39a02d6",
   "metadata": {},
   "source": [
    "### Iterowanie\n",
    "Po elementach słownika można iterować - zarówno po kluczach, wartościach, jak i parach klucz-wartość:"
   ]
  },
  {
   "cell_type": "code",
   "execution_count": null,
   "id": "ee594c89",
   "metadata": {},
   "outputs": [],
   "source": [
    "d = {\"obiadek\": \"gerberek\", \"kolacja\": \"kaszka\", \"śniadanie\": \"mleko\"}\n",
    "for k in d:\n",
    "    print(k)\n",
    "\n",
    "print(\"-\" * 80)\n",
    "for v in d.values():\n",
    "    print(v)\n",
    "\n",
    "print(\"-\" * 80)\n",
    "for k, v in d.items():\n",
    "    print(f\"{k}->{v}\")"
   ]
  },
  {
   "cell_type": "markdown",
   "id": "836bed5a",
   "metadata": {},
   "source": [
    "### Usuwanie jednego elementu\n",
    "Można użyć metody `pop`, podając jej klucz który chce się usunąć. Wartość jest zwracana (lub zwracana jest wartosć domyślna):"
   ]
  },
  {
   "cell_type": "code",
   "execution_count": null,
   "id": "98891fbf",
   "metadata": {},
   "outputs": [],
   "source": [
    "d = {\"obiadek\": \"gerberek\", \"kolacja\": \"kaszka\", \"śniadanie\": \"mleko\"}\n",
    "print(d.pop(\"obiadek\"))\n",
    "print(d.pop(\"drugie śniadanie\", \"kleik\"))"
   ]
  },
  {
   "cell_type": "markdown",
   "id": "7b079681",
   "metadata": {},
   "source": [
    "Możliwe jest też usuwanie ostatnio włożonej pary klucz-wartość:"
   ]
  },
  {
   "cell_type": "code",
   "execution_count": null,
   "id": "8445de4f",
   "metadata": {},
   "outputs": [],
   "source": [
    "d = {\"obiadek\": \"gerberek\", \"kolacja\": \"kaszka\", \"śniadanie\": \"mleko\"}\n",
    "d.popitem()"
   ]
  },
  {
   "cell_type": "markdown",
   "id": "66ce60ee",
   "metadata": {},
   "source": [
    "Alternatywnie można usuwać pojedynczy element przy użyciu `del`:"
   ]
  },
  {
   "cell_type": "code",
   "execution_count": null,
   "id": "04231a6e",
   "metadata": {},
   "outputs": [],
   "source": [
    "d = {\"obiadek\": \"gerberek\", \"kolacja\": \"kaszka\", \"śniadanie\": \"mleko\"}\n",
    "\n",
    "del d[\"obiadek\"]\n",
    "print(d)"
   ]
  },
  {
   "cell_type": "markdown",
   "id": "bdb1d866",
   "metadata": {},
   "source": [
    "### Łączenie słowników"
   ]
  },
  {
   "cell_type": "code",
   "execution_count": null,
   "id": "f2eb509a",
   "metadata": {},
   "outputs": [],
   "source": [
    "d = {\"obiadek\": \"gerberek\", \"kolacja\": \"kaszka\", \"śniadanie\": \"mleko\"}\n",
    "d2 = {\"podwieczorek\": \"biszkopty\", \"drugie śniadanie\": \"kleik\"}\n",
    "d.update(d2)\n",
    "print(d)"
   ]
  },
  {
   "cell_type": "markdown",
   "id": "399aa3dc",
   "metadata": {},
   "source": [
    "### Usuwanie wszystkich elementów"
   ]
  },
  {
   "cell_type": "code",
   "execution_count": null,
   "id": "6e0292ed",
   "metadata": {},
   "outputs": [],
   "source": [
    "d = {\"obiadek\": \"gerberek\", \"kolacja\": \"kaszka\", \"śniadanie\": \"mleko\"}\n",
    "d.clear()\n",
    "print(d)"
   ]
  },
  {
   "cell_type": "markdown",
   "id": "6d737139",
   "metadata": {},
   "source": [
    "\n",
    "### *Zadanie*\n",
    "1. Wczytaj dwie liczby a następnie znak ze standardowego wejścia\n",
    "2. W zależności od znaku:\n",
    "    1. Jeśli znak to `*`, wypisz wynik mnożenia wczytanych liczb\n",
    "    2. Jeśli znak to `/`, wypisz wynik dzielenia całkowitego wczytanych liczb\n",
    "    3. Jeśli znak to `+`, wypisz wynik dodawania wczytanych liczb\n",
    "    4. Jeśli znak to `-`, wypisz wynik odejmowania wczytanych liczb\n",
    "    5. W innym wypadku wypisz **\"Nieznana operacja\"**\n",
    "3. Jeśli otrzymany wynik jest poza zakresem `[0, 100)`, należy wypisać zamiast niego \"Wynik spoza obsługiwanego zakresu\"\n",
    "4. Aby wypisać tekst na kolorowo, możemy użyć niedrukowalnych znaków specjalnych:\n",
    "```\n",
    "W  = '\\033[0m'  # biały (domyślny)\n",
    "R  = '\\033[31m' # czerwony\n",
    "G  = '\\033[32m' # zielony\n",
    "O  = '\\033[33m' # pomarańczowo-żółty\n",
    "B  = '\\033[34m' # niebiski\n",
    "P  = '\\033[35m' # fioletowy\n",
    "print(B+\"Jak się masz\"+W)\n",
    "```\n",
    "    - Jeśli wynik jest podzielny przez 2, wypisz go na zielono\n",
    "    - Jeśli wynik jest podzielny przez 3, wypisz go na żółto\n",
    "    - Jeśli wynik jest podzielny przez 5, wypisz go na czerwono\n",
    "    - Jeśli wynik jest podzielny przez 7, wypisz go na niebisko"
   ]
  },
  {
   "cell_type": "markdown",
   "id": "605ca702",
   "metadata": {},
   "source": [
    "### DefaultDict\n",
    "`DefaultDict` umożliwia używanie słowników bez konieczności dbania o to czy dana wartość się w nim znajduje:"
   ]
  },
  {
   "cell_type": "code",
   "execution_count": null,
   "id": "80d58ba6",
   "metadata": {},
   "outputs": [],
   "source": [
    "from collections import defaultdict\n",
    "\n",
    "\n",
    "d = defaultdict(lambda: 0)\n",
    "for c in \"Litwo! Ojczyzno moja! Ty jesteś jak zdrowie\":\n",
    "    d[c] += 1\n",
    "\n",
    "print(d[\"L\"])\n",
    "print(d[\"o\"])"
   ]
  },
  {
   "cell_type": "markdown",
   "id": "61fba4e8",
   "metadata": {},
   "source": [
    "### Counter\n",
    "\n",
    "Istnieje dedykowany podtyp słownika, ułatwiający zliczanie elementów, czyli mapowanie ich na `int` - `Counter`:"
   ]
  },
  {
   "cell_type": "code",
   "execution_count": null,
   "id": "69d0129d",
   "metadata": {},
   "outputs": [],
   "source": [
    "from collections import Counter\n",
    "\n",
    "s = \"Litwo! Ojczyzno moja! Ty jesteś jak zdrowie\"\n",
    "\n",
    "c = Counter(s)\n",
    "print(c[\"L\"])\n",
    "print(c[\"o\"])"
   ]
  },
  {
   "cell_type": "markdown",
   "id": "eeac723f",
   "metadata": {},
   "source": [
    "## Zbiór\n",
    "\n",
    "### Wprowadzenie\n",
    "Zbiory są pozbawionymi kolejności kolekcjami unikalnych elementów, tzn. nie istnieją dwa identyczne elementy w zbiorze. Definiuje się je nastepująco:"
   ]
  },
  {
   "cell_type": "code",
   "execution_count": null,
   "id": "ec060056",
   "metadata": {},
   "outputs": [],
   "source": [
    "{1,2,2,5,2,4,2,3,1,1,1,5,1}"
   ]
  },
  {
   "cell_type": "markdown",
   "id": "c6df2d5d",
   "metadata": {},
   "source": [
    "Podstawową operacja na zbiorze jest sprawdzenie czy element należy do zbioru - ma ona złożoność O(1):"
   ]
  },
  {
   "cell_type": "code",
   "execution_count": null,
   "id": "d95c914f",
   "metadata": {},
   "outputs": [],
   "source": [
    "2 in {1, 4, 2, 4, 5, 5, 5}"
   ]
  },
  {
   "cell_type": "markdown",
   "id": "a567b533",
   "metadata": {},
   "source": [
    "Podobnie jak w matematyce, w Pythonie naturalnie możemy dokonywać operacji na zbiorach:"
   ]
  },
  {
   "cell_type": "code",
   "execution_count": null,
   "id": "a5f70123",
   "metadata": {},
   "outputs": [],
   "source": [
    "planety = {\"merkury\", \"wenus\", \"ziemia\", \"mars\", \"jowisz\", \"saturn\", \"uran\", \"neptun\"}\n",
    "skaliste = {\"merkury\", \"wenus\", \"ziemia\", \"mars\"}\n",
    "\n",
    "# różnica\n",
    "gazowe = planety - skaliste\n",
    "print(gazowe)\n",
    "print(planety.difference(gazowe))\n",
    "\n",
    "# suma\n",
    "print(skaliste | gazowe)\n",
    "print(skaliste.union(gazowe))\n",
    "\n",
    "# część wspólna\n",
    "nie_za_gorąco = {\"ziemia\", \"mars\", \"jowisz\", \"saturn\", \"uran\", \"neptun\"}\n",
    "nie_za_zimno = {\"merkury\", \"wenus\", \"ziemia\", \"mars\"}\n",
    "print(nie_za_gorąco & nie_za_zimno)\n",
    "print(nie_za_gorąco.intersection(nie_za_zimno))\n",
    "\n",
    "# różnica symetryczna\n",
    "print(nie_za_gorąco ^ nie_za_zimno)\n",
    "print(nie_za_gorąco.symmetric_difference(nie_za_zimno))\n",
    "\n",
    "# czy zbiory są rozłączne\n",
    "print(gazowe.isdisjoint(skaliste))\n",
    "print(gazowe.isdisjoint(planety))\n",
    "\n",
    "# czy jest podzbiorem:\n",
    "print(f\"czy gazowe są właściwym podzbiorem planet: {gazowe < planety}\")\n",
    "print(f\"czy gazowe są podzbiorem planet: {gazowe <= planety}\")\n",
    "print(f\"czy skaliste są podzbiorem gazowych: {skaliste < gazowe}\")"
   ]
  }
 ],
 "metadata": {
  "kernelspec": {
   "display_name": "Python 3 (ipykernel)",
   "language": "python",
   "name": "python3"
  },
  "language_info": {
   "codemirror_mode": {
    "name": "ipython",
    "version": 3
   },
   "file_extension": ".py",
   "mimetype": "text/x-python",
   "name": "python",
   "nbconvert_exporter": "python",
   "pygments_lexer": "ipython3",
   "version": "3.10.0"
  }
 },
 "nbformat": 4,
 "nbformat_minor": 5
}
