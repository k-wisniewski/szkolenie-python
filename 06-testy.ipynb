{
 "cells": [
  {
   "cell_type": "markdown",
   "id": "bc9b7cc4",
   "metadata": {
    "pycharm": {
     "name": "#%% md\n"
    }
   },
   "source": [
    "## Testy\n",
    "\n",
    "### Po co w ogóle testy?\n",
    "- aby upewnić się, że program realizuje specyfikacje - w skomplikowanych programach na poziomie jednostkowym ciężko będzie bezpośrednio nawiązywać do niej, jednak testy jednostkowe klasy czy funkcji powinny skupiać się na zapewnieniu, że ich \"kontrakt\" (publicznie dostępne zachowanie) jest spełniony\n",
    "- aby uniknąć przypadkowych błędów\n",
    "- aby uniknąć przypadkowej zmiany kontraktu\n",
    "- aby łatwiej debugować\n",
    "- ...\n",
    "\n",
    "### Rodzaje testów\n",
    "W ramach zajęć będziemy pisać testy - głównie jednostkowe. Z racji swojej \"niskopoziomowości\", normalną rzeczą jest, że testów jednostkowych jest stosunkowo najwięcej. Na wyższym poziomie wykonuje się też:\n",
    "- testy integracyjne - testujące współpracę aplikacji lub jej modułów z jej środowiskiem wykonania i infrastrukturą (np.: z bazą danych, ze zmiennymi środowiskowymi, z klientami API etc.)\n",
    "- testy end-to-end - testujące główne procesy biznesowe implementowane przez aplikację lub przynajmniej zapewniające, że cała ona jest w stanie się uruchomić w oczekiwanym środowisku i konfiguracji\n",
    "- testy kontraktowe - zazwyczaj nazywa się tak testy weryfikujące, że aplikacje są w stanie komunikować się przez jakieś api zgodnie z jego kontraktem - w środowisku wielousługowym zapobiegają deploymentowi niezgodnych ze sobą wersji usług\n",
    "\n",
    "Testy jednostkowe weryfikują zachowanie kodu na najniższym poziomie - w izolacji, stosunkowo małych kawałków, ale bardzo dokładnie - idealnie każdy możliwy przebieg wykonania powinien być pokryty. To nie oznacza, że każdy test powinien testować np. tylko jedną funkcję, ale każde oczekiwane 1 zachowanie powinno mieć odzwierciedlenie w testach. \n",
    "\n",
    "### Pytest\n",
    "W celu łatwiejszego tworzenia testów posłużymy się zewnętrzną biblioteką `pytest`. Po wykonaniu poprzedniego zadania powinna być ona zainstalowana w naszym wirtualnym środowisku. Python zawiera w swojej bibliotece standardowej moduł `unittest`, którego moglibyśmy użyć zamiast `pytest`, ale `pytest` jest łatwiejsza w użyciu i ostatnio również bardziej popularna. Jej zaletą jest większa czytelność, łatwość obsługi, możliwość filtrowania testów, lepsze zarządzanie zależnościami i parametryzowalność.\n",
    "\n",
    "Podstawowe użycie `pytest` wygląda następująco:\n",
    "- uruchamiamy go poleceniem `pytest`\n",
    "- w pliku o nazwie zaczynającej się/kończącej się na `test_`/`_test` jako test odkrywane są wszystkie funkcje o nazwie zaczynającej się na `test_`\n",
    "- asercje weryfikujące pożądane przez nas wartości są zapisywane z użyciem standardowego słowa kluczowego Pythona - `assert`\n",
    "\n",
    "\n",
    "np.:\n",
    "\n",
    "```\n",
    "def test_2_plus_2_equals_4():\n",
    "    assert 2 + 2 == 4\n",
    "```\n",
    "\n",
    "Wywołanie `pytest` bez argumentów spowoduje automatyczne odkrywanie testów w bieżącym katalogu. Można równiez eksplicite podać konkretny plik np.: `pytest dirwatch/checkpoints_store_test.py` lub nawet konkretny test do wykonania:\n",
    "```\n",
    "pytest dirwatch/checkpoints_store_test.py -k 'test_load_checkpoints_should_load_path_to_hash_mapping_from_json_file'\n",
    "```\n",
    "Metod wybierania testów do wykonania jest więcej - można je znaleźć w dokumentacji biblioteki. Z przydatnych przełączników warto wspomnieź o `-x` - który zatrzyma wykonanie po pierwszym nieudanym teście - oraz `--pdb` - który w przypadku błędu lub `KeyboardInterrupt` odpali debugger.\n",
    "\n",
    "#### Test doubles i pytest.fixture\n",
    "Wraz z coraz większym skomplikowaniem kodu konieczna jest jego modularyzacja - najpierw na funkcje, potem klasy i moduły aż do poziomu pakietów. Często gdy chcemy osiągnać łatwiejszą testowalnośc modułu wyłączamy część funkcjonalności do osobnej jednostki, a w testach podajemy ją jako już skonfigurowany parametr. Np.: nasza główna logika będzie polegać na osobnym module implementującym przechowywanie znanego stanu katalogu, tak by można było precyzyjnie go kontrolować, uzyskując pożądane warunki wykonania testowanej logiki. Takie skonfigurowane zależności używane do testowania nazywane są *test doubles*, lub po polsku *dublerzy*.\n",
    "\n",
    "W ramach zajęć będziemy korzystać z kilku innych funkcji `pytest`a, jednak najbardziej przydatne są tzw. `fixtures`. `Fixtures` w rozumieniu `pytest`a to mechanizm umożliwiający łatwe, komponowalne zarządzanie takimi dublerami. Definiuje się ich po prostu jako wyniki działania funkcji zawierających specjalne oznaczenie `@pytest.fixture`:"
   ]
  },
  {
   "cell_type": "code",
   "execution_count": null,
   "id": "5f093f1b",
   "metadata": {
    "pycharm": {
     "name": "#%%\n"
    }
   },
   "outputs": [],
   "source": [
    "@pytest.fixture(scope=\"session\")\n",
    "def sample_contents() -> list[str]:\n",
    "    return [\n",
    "        \"W Szczebrzeszynie Chrząszcz Brzmi W Trzcinie\",\n",
    "        \"Grzegorz Brzęczyszczykiewicz, powiat Łękołody\"\n",
    "    ]"
   ]
  },
  {
   "cell_type": "code",
   "execution_count": null,
   "id": "dca149a7",
   "metadata": {
    "pycharm": {
     "name": "#%%\n"
    }
   },
   "outputs": [],
   "source": [
    "@pytest.fixture(scope=\"session\")\n",
    "def sample_contents() -> list[str]:\n",
    "    przygotuj()\n",
    "    zasób = alloc_resouce()\n",
    "    yield zasób\n",
    "    dealloc(zasób)"
   ]
  },
  {
   "cell_type": "markdown",
   "id": "edad50f9",
   "metadata": {
    "pycharm": {
     "name": "#%% md\n"
    }
   },
   "source": [
    "Aby w naszej funkcji implementującej test skorzystać ze zdefiniowanej zależności wystarczy zadeklarować jej pararmetr o odpowiadającej nazwie:"
   ]
  },
  {
   "cell_type": "code",
   "execution_count": null,
   "id": "cc4719a9",
   "metadata": {
    "pycharm": {
     "name": "#%%\n"
    }
   },
   "outputs": [],
   "source": [
    "def test_something(sample_contents):\n",
    "    with open(\"sample_file.txt\", \"w\") as f:\n",
    "        f.write(sample_contents)\n",
    "    ..."
   ]
  },
  {
   "cell_type": "markdown",
   "id": "5141c601",
   "metadata": {
    "pycharm": {
     "name": "#%% md\n"
    }
   },
   "source": [
    "#### Autouse\n",
    "Można również podać parametr `autouse=True`, by dany fixture był automatycznie dostępny w każdej funkcji testowej:"
   ]
  },
  {
   "cell_type": "code",
   "execution_count": null,
   "id": "104864da",
   "metadata": {
    "pycharm": {
     "name": "#%%\n"
    }
   },
   "outputs": [],
   "source": [
    "import pytest\n",
    "\n",
    "\n",
    "@pytest.fixture\n",
    "def first_entry():\n",
    "    return \"a\"\n",
    "\n",
    "\n",
    "@pytest.fixture\n",
    "def order(first_entry):\n",
    "    return []\n",
    "\n",
    "\n",
    "@pytest.fixture(autouse=True)\n",
    "def append_first(order, first_entry):\n",
    "    return order.append(first_entry)\n",
    "\n",
    "\n",
    "def test_string_only(order, first_entry):\n",
    "    assert order == [first_entry]\n",
    "\n",
    "\n",
    "def test_string_and_int(order, first_entry):\n",
    "    order.append(2)\n",
    "    assert order == [first_entry, 2]"
   ]
  },
  {
   "cell_type": "markdown",
   "id": "e1d92df6",
   "metadata": {
    "pycharm": {
     "name": "#%% md\n"
    }
   },
   "source": [
    "### *Zadania*\n",
    "W repozytorium wykonaj następujące polecenia:\n",
    "```\n",
    "git checkout task-1\n",
    "git checkout -b my-solution-1\n",
    "```\n",
    "\n",
    "Teraz w pliku `dirwatcher/infrastructure/checkpoint_store.py` znajdują się 2 funkcje:\n",
    "\n",
    "```\n",
    "def load_checkpoints() -> dict[Path, str]:\n",
    "    ...\n",
    "\n",
    "\n",
    "def save_checkpoints(hashes: dict[Path, str]):\n",
    "    ...\n",
    "```\n",
    "\n",
    "#### Zadanie 1\n",
    "- [ ] uzupełnij treść funkcji `load_checkpoints`, tak by przechodziła testy zdefiniowane w pliku `dirwatcher/infrastructure/checkpoint_store_test.py`\n",
    "    * [ ] uruchom test przed implementacją i zapoznaj się z wiadomością o błędzie\n",
    "        * [ ] w terminalu przejdź do głównego katalogu repozytorium i wykonaj `pytest dirwatcher/checkpoint_store_test.py`\n",
    "    * [ ] w implementacji `load_checkpoints` otwórz plik wskazywany przez zmienną `STORE_LOCATION` do odczytu\n",
    "    * [ ] skorzystaj z odpowiedniego modułu biblioteki standardowej by zdeserializować słownik wejściowy z formatu json\n",
    "    * [ ] ponownie uruchom testy i zobacz czy testy przechodzą\n",
    "    * [ ] przekonwertuj wczytany słownik tak, by był typu zgodnego z anotacją funkcji\n",
    "    * [ ] w trybie interaktywnym zweryfikuj, co dzieje się gdy zmienna `STORE_LOCATION` zawiera nieistniejącą ścieżkę\n",
    "        * [ ] w terminalu przejdź do głównego katalogu repozytorium, następnie przejdź do `dirwatcher/infrastructure` i wykonaj `python -i checkpoint_store.py`\n",
    "        * [ ] wpisz do zmiennej `STORE_LOCATION` nieistniejącą ścieżkę i wywołaj `load_checkpoints()`\n",
    "    * [ ] jeśli to konieczne zmodyfikuj swoją implementację i sprawdź czy testy przechodzą poprawnie\n",
    "\n",
    "Iteracyjne pisanie i uruchamianie testu przed implementacją, następnie implementacja minimalnego zakresu funkcjonalności, który wystarcza do jego przejścia i ponowne uruchamianie celem weryfikacji poprawności implementacji jest głównym pomysłem stojącym za techniką Test Driven Development (TDD). Jest to popularna i wygodna w użyciu metodologia rozwoju oprogramowania (nie tylko w Pythonie), pozwalająca na jego dokładniejsze i łatwiejsze testowanie.\n",
    "\n",
    "#### Zadanie 2\n",
    "Funkcja `save_checkpoints` powinna zapisywać mapowanie ścieżka -> hash jako plik w formacie JSON tak, by były odczytywalne przy użyciu `load_checkpoints`\n",
    "- [ ] zaimplementuj  funkcję `save_checkpoints` używając techniki TDD:\n",
    "    * [ ] zastanów się jakie zachowania należy przetestować by dodać do naszej aplikacji możliwość zapisywania hashy plików tak jak w przykładzie znajdującym się w katalogu `dirwatcher/infrastructure/test_data`. Na razie załóż, że STORE_LOCATION hardkoduje lokalizację, gdzie należy zapisać dane.\n",
    "    * [ ] zaimplementuj test weryfikujący pierwszą z pożądanych własności i uruchom go\n",
    "    * [ ] w pliku `dirwatcher/checkpoint_store.py` uzupełnij ciało funkcji `save_checkpoints`, tak by przechodziła Twój test\n",
    "    * [ ] uruchom napisany wcześniej test by zweryfikować, czy przechodzi (hint: przydatna przy uruchamianiu pytest może być opcja `-k`\n",
    "    )\n",
    "    * [ ] jeśli test przechodzi zaimplementuj kolejny test, weryfikujący kolejne z zachowań oczekiwanych od `save_checkpoints` i powtórz wszystkie kroki wykonane dla poprzedniego przypadku"
   ]
  },
  {
   "cell_type": "markdown",
   "id": "7292762f",
   "metadata": {
    "pycharm": {
     "name": "#%% md\n"
    }
   },
   "source": [
    "#### Monkey patching\n",
    "Monkey-patching to technika umożliwiająca nadpisywanie realnych implmentacji mockami - nawet w bibliotekach, których nie jesteśmy autorami. Nie jest to zazwyczaj dobra technika tworzenia testów do nowych funkcjonalności. Testy tak stworzone łatwo się psują i wymagają częstych zmian. Nie jest to jednak wielki problem w przypadku testów oprogramowania legacy, które powstają dla nas, kiedy chcemy poznać ich sposób działania. Wówczas możemy skorzystać ze specjalngo fixture pytesta - `monkeypatch` (przykład z dokumentacji PyTest):"
   ]
  },
  {
   "cell_type": "code",
   "execution_count": null,
   "id": "97c58299",
   "metadata": {
    "pycharm": {
     "name": "#%%\n"
    }
   },
   "outputs": [],
   "source": [
    "# contents of test_app.py, a simple test for our API retrieval\n",
    "import pytest\n",
    "import requests\n",
    "\n",
    "# app.py that includes the get_json() function\n",
    "import app\n",
    "\n",
    "# custom class to be the mock return value of requests.get()\n",
    "class MockResponse:\n",
    "    @staticmethod\n",
    "    def json():\n",
    "        return {\"mock_key\": \"mock_response\"}\n",
    "\n",
    "\n",
    "# monkeypatched requests.get moved to a fixture\n",
    "@pytest.fixture\n",
    "def mock_response(monkeypatch):\n",
    "    \"\"\"Requests.get() mocked to return {'mock_key':'mock_response'}.\"\"\"\n",
    "\n",
    "    def mock_get(*args, **kwargs):\n",
    "        return MockResponse()\n",
    "\n",
    "    monkeypatch.setattr(requests, \"get\", mock_get)\n",
    "\n",
    "\n",
    "# notice our test uses the custom fixture instead of monkeypatch directly\n",
    "def test_get_json(mock_response):\n",
    "    result = app.get_json(\"https://fakeurl\")\n",
    "    assert result[\"mock_key\"] == \"mock_response\""
   ]
  }
 ],
 "metadata": {
  "kernelspec": {
   "display_name": "Python 3 (ipykernel)",
   "language": "python",
   "name": "python3"
  },
  "language_info": {
   "codemirror_mode": {
    "name": "ipython",
    "version": 3
   },
   "file_extension": ".py",
   "mimetype": "text/x-python",
   "name": "python",
   "nbconvert_exporter": "python",
   "pygments_lexer": "ipython3",
   "version": "3.11.4"
  }
 },
 "nbformat": 4,
 "nbformat_minor": 5
}
