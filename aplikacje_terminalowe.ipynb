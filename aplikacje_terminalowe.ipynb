{
 "cells": [
  {
   "cell_type": "markdown",
   "id": "3c9cefee",
   "metadata": {},
   "source": [
    "## Tworzenie aplikacji terminalowych\n",
    "Jednym z podstawowych aspektów tworzenia aplikacji terminalowych jest parsowanie opcji i argumentów. Istnieje wiele różnych rozwiązań tego problemu i wiele różnych zdań co do tego, która z nich jest najlepsza. Na pewno istotna jest:\n",
    "- łatwość tworzenia kodu obsługującego opcje i parametry\n",
    "- zgodność z konwencjami systemów operacyjnych\n",
    "- łatwe dokumentowanie co która opcja lub parametr oznacza\n",
    "- możliwość łatwej automatyzacji użycia naszego narzędzia\n",
    "- przenośność i przewidywalne zachowania w różnych terminalach i na różnych systemach operacyjnych.\n",
    "W bibliotece standardowej Pythona znajdują się przeznaczone do tego 2 moduły `argparse` i `optparse`. Obie biblioteki są używane, jednak posiadają w sobie wiele *magicznych* zachowań lub wypelniają tylko niektóre z powyższych oczekiwań. Na tych zajęciach nauczymy się używać biblioteki `Click` - jest to paczka, którą najpierw należy zainstalować (my już to zrobiliśmy), a która wydaje się na ten moment najwygodniejsza w użyciu.\n",
    "\n",
    "### Biblioteka Click\n",
    "`Click` powstał na potrzeby frameworka `Flask` i wewnętrznie opakowuje `optparse`. W założeniu ma być bardziej przenośny i łatwiejszy w użyciu, w szczególności do testowania. Automatycznie generuje strony pomocy, obsługuje zagnieżdżone opcje i argumenty i stroni od niezrozumiałych i magicznych zachowań (auto-poprawianie parametów etc.)\n",
    ", które utrudniają potem automatyzację workflowów.\n",
    "\n",
    "#### Dokumentacja\n",
    "Dokumentacja jest dostępna [tu](https://click.palletsprojects.com/en/8.0.x/#documentation)\n",
    "\n",
    "#### Podstawy\n",
    "`Click` definiuje komendy przy użyciu dekoratorów - najprostsza komenda wygląda tak:"
   ]
  },
  {
   "cell_type": "code",
   "execution_count": null,
   "id": "2d78991d",
   "metadata": {},
   "outputs": [],
   "source": [
    "#!pip install click\n",
    "import click\n",
    "\n",
    "@click.command()\n",
    "def hello():\n",
    "    click.echo('Hello World!')\n",
    "if __name__ == '__main__':\n",
    "    hello()"
   ]
  },
  {
   "cell_type": "markdown",
   "id": "a4f94bc9",
   "metadata": {},
   "source": [
    "Dekorator zamienia dekorowaną funkcję na komendę - dodając do niej odpowiednie zachowania:\n",
    "```\n",
    "$ python hello.py\n",
    "Hello World!\n",
    "```\n",
    "Jednym z nich jest np.: zdolność do wypisania pomocy:\n",
    "```\n",
    "$ python hello.py --help\n",
    "Usage: hello.py [OPTIONS]\n",
    "\n",
    "Options:\n",
    "  --help  Show this message and exit.\n",
    "```\n",
    "\n",
    "W powyższym przykładzie widać też użycie funkcji `click.echo` zamiast standardowo `print` - click zawiera wiele obejść na problemy, które utrudniają przenaszalność aplikacji między różnymi środowiskami i terminalami. `click.echo` m. in. ulepsza `print` o obsługę unicode'a na różnych systemach operacyjnych, kompatybilne zarządzanie kolorowanym tesktem etc.\n",
    "\n",
    "Bardziej zaawansowane użycie `click`a to stworzenie grupy komend - podobnie jak np. w `kubectl` mamy grupy komend związanych z konkretnymi zasobami np.: `kubeclt config get-contexts`. Aby utworzyć taką grupę należy:"
   ]
  },
  {
   "cell_type": "markdown",
   "id": "711c153d",
   "metadata": {},
   "source": [
    "```\n",
    "kubectl --namespace=\"cokolwiek\" config  jd get-contexts\n",
    "kubectl get pods --namespace=\"asdas\"\n",
    "```"
   ]
  },
  {
   "cell_type": "code",
   "execution_count": null,
   "id": "12cb66f3",
   "metadata": {},
   "outputs": [],
   "source": [
    "@click.group()\n",
    "def cli():\n",
    "    pass\n",
    "\n",
    "@click.command()\n",
    "def initdb():\n",
    "    click.echo('Initialized the database')\n",
    "\n",
    "@click.command()\n",
    "def dropdb():\n",
    "    click.echo('Dropped the database')\n",
    "\n",
    "cli.add_command(initdb)\n",
    "cli.add_command(dropdb)"
   ]
  },
  {
   "cell_type": "markdown",
   "id": "b1205242",
   "metadata": {},
   "source": [
    "W powyższym pzykładzie powstała grupa komend `cli`, zawierająca komendy `initdb` i `dropdb` - wywołuje się ją przez:\n",
    "\n",
    "```\n",
    "python script.py cli initdb\n",
    "```\n",
    "\n",
    "Aby dodać opcje lub argumenty używa się dekoratorów `click.argument` i `@click.option`:"
   ]
  },
  {
   "cell_type": "code",
   "execution_count": null,
   "id": "5aa72eea",
   "metadata": {},
   "outputs": [],
   "source": [
    "@click.command()\n",
    "@click.option('--count', default=1, help='number of greetings')\n",
    "@click.argument('name', type=str)\n",
    "def hello(count, name):\n",
    "    \"\"\"\n",
    "    hello - prints your NAME COUNT times\n",
    "    \"\"\"\n",
    "    for x in range(count):\n",
    "        click.echo(f\"Hello {name}!\")"
   ]
  },
  {
   "cell_type": "markdown",
   "id": "78b04a10",
   "metadata": {},
   "source": [
    "#### Argumenty vs opcje\n",
    "Argumenty nie są tym samym co opcje - zgodnie ze swoja nazwą opcje zazwyczaj są opcjonalne, a argumenty zazwyczaj wymagane. Oczywiście są od tego wyjątki, ale zazwyczaj używa się argumentów by przekazać ścieżki do plików, URL lub subkomendy, a opcji do wszystkiego innego. W `Click` opcje mają więcej funkcjonalności, m.in:\n",
    "- możliwość poproszenia o brakującą wartość\n",
    "- łatwe użycie jako flag (włącz/wyłącz)\n",
    "- możliwość podawania wartości przez zmienne środowiskowe\n",
    "- w pełni automatyczna dokumentacja\n",
    "\n",
    "#### Zagnieżdżanie komend i przekazywanie kontekstu\n",
    "Komendy tworzone z wykorzystaniem Clicka mogą być zagnieżdżone\n",
    "\n",
    "#### Testy\n",
    "`Click` udostępnia narzędzie, którym można wywoływać komendę i zbierać jej wyniki w łatwy sposób - `CliRunner`. Nie jest to narzędzie przeznaczone do produkcyjnego użycia w automatyzacji, ale wystarcza do testowania naszego kodu definiującego komendy. Możemy skorzystać z niego np. tak:\n",
    "```\n",
    "def test_cli_should_accept_a_path_to_watch_as_an_argument_and_use_default_location_for_checkpoint_store(\n",
    "        tmpdir_with_file\n",
    "):\n",
    "    tmpdir, test_path, *_ = tmpdir_with_file\n",
    "    runner = CliRunner()\n",
    "    with runner.isolated_filesystem(temp_dir=tmpdir):\n",
    "        result = runner.invoke(cli, [str(tmpdir), \"watch\"])\n",
    "        assert result.exit_code == 0\n",
    "        assert store_contains_expected_content(\"store.json\", test_path)\n",
    "\n",
    "```\n",
    "\n",
    "### *Zadanie*\n",
    "```\n",
    "git checkout task-7\n",
    "git checkout -b my-solution-7\n",
    "```\n",
    "* [ ] Dodaj entrypoint do paczki\n",
    "    * [ ] W dokumentacji `setuptools` znajdź wyjaśnienie słowa kluczowego `console_scripts`\n",
    "    * [ ] Dodaj odpowiedni wpis w `setup.cfg`, wskazujący na funkcję `dirwatcher.watcher_cli:cli`\n",
    "    * [ ] Podbij wersję paczki\n",
    "    * [ ] Przebuduj paczkę przy użyciu `pyproject-build`\n",
    "    * [ ] Dla chętnych - wrzuć paczkę do testowego PyPI\n",
    "* [ ] Dodaj komendę `get`, akceptującą opcje:\n",
    "    * [ ] `--new` - pokazującą ścieżki nowododanych plików\n",
    "    * [ ] `--deleted` - pokazującą ścieżki usuniętych plików\n",
    "    * [ ] `--content-changed` - pokazującą już istniejące pliki, których zawartość się zmieniła\n",
    "    * [ ] Dla chętnych - czy jesteś w stanie zaimplementować wygodniejszy/bardziej naturalny interfejs?\n",
    "* [ ] Przetestuj działanie aplikacji przy użyciu testów e2e, podobnie jak jest to zrobione dla komendy `watch`"
   ]
  }
 ],
 "metadata": {
  "kernelspec": {
   "display_name": "Python 3 (ipykernel)",
   "language": "python",
   "name": "python3"
  },
  "language_info": {
   "codemirror_mode": {
    "name": "ipython",
    "version": 3
   },
   "file_extension": ".py",
   "mimetype": "text/x-python",
   "name": "python",
   "nbconvert_exporter": "python",
   "pygments_lexer": "ipython3",
   "version": "3.10.0"
  }
 },
 "nbformat": 4,
 "nbformat_minor": 5
}
