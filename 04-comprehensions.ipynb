{
 "cells": [
  {
   "cell_type": "markdown",
   "id": "0ca14e44",
   "metadata": {
    "pycharm": {
     "name": "#%% md\n"
    }
   },
   "source": [
    "## Wyrażenia comprehension\n",
    "\n",
    "### List comprehensions\n",
    "List comprehensions to skrócony, deklaratywny sposób wypełniania listy elementami:"
   ]
  },
  {
   "cell_type": "code",
   "execution_count": null,
   "id": "d859e2f6",
   "metadata": {
    "pycharm": {
     "name": "#%%\n"
    }
   },
   "outputs": [],
   "source": [
    "result = []\n",
    "for x in range(10):\n",
    "    if x % 2 == 0:\n",
    "        to_be_appended = 2 * x\n",
    "        result.append(to_be_appended)\n",
    "result\n",
    "\n",
    "[2 * x for x in range(10) if x % 2 == 0]"
   ]
  },
  {
   "cell_type": "markdown",
   "id": "a73155ca",
   "metadata": {
    "pycharm": {
     "name": "#%% md\n"
    }
   },
   "source": [
    "Pętle wewnątrz list comprehension mogą być zagnieżdżane, a warunki zwielokratniane:"
   ]
  },
  {
   "cell_type": "code",
   "execution_count": null,
   "id": "fe273f1b",
   "metadata": {
    "pycharm": {
     "name": "#%%\n"
    }
   },
   "outputs": [],
   "source": [
    "[x + y for x in range(10) for y in range(5) if 1 < x - y < 3 or x % 2 == 1 if y % 2 == 1]"
   ]
  },
  {
   "cell_type": "markdown",
   "id": "a441f229",
   "metadata": {
    "pycharm": {
     "name": "#%% md\n"
    }
   },
   "source": [
    "### Set comprehension\n",
    "Identycznie jak z listami, możemy wykorzystywać comprehensions ze zbiorami:"
   ]
  },
  {
   "cell_type": "code",
   "execution_count": null,
   "id": "b2013b71",
   "metadata": {
    "pycharm": {
     "name": "#%%\n"
    }
   },
   "outputs": [],
   "source": [
    "{2 * i for i in [1,1,2,3,5,8,13,21,34,55,89,55,34,21,13,8,5]}"
   ]
  },
  {
   "cell_type": "markdown",
   "id": "716e03cc",
   "metadata": {
    "pycharm": {
     "name": "#%% md\n"
    }
   },
   "source": [
    "### Dict comprehension\n",
    "Również słowniki mogą być generowane deklaratywnie:"
   ]
  },
  {
   "cell_type": "code",
   "execution_count": null,
   "id": "26d7a277",
   "metadata": {
    "pycharm": {
     "name": "#%%\n"
    }
   },
   "outputs": [],
   "source": [
    "{k: v for k, v in zip(range(1,8), range(10,20))}"
   ]
  },
  {
   "cell_type": "markdown",
   "id": "4dac27f0",
   "metadata": {
    "pycharm": {
     "name": "#%% md\n"
    }
   },
   "source": [
    "### *Zadanie 1*\n",
    "Napisz wyrażenie, które wygeneruje listę parzystych elementów przedziału liczb całkowitych `[12, 123)`\n",
    "### *Zadanie 2*\n",
    "Napisz list comprehension, które \"spłaszczy listę list\", czyli skonkatenuje wszystkie jej elemenenty tak, by powstała jedna lista zawierająca po kolei wszystkie elementy zagnieżdżonych w oryginalnej liście list. Np.:\n",
    "```\n",
    "[[1,4,2], [], [1,2], [9,7,3,6]]\n",
    "```\n",
    "powinno dać w rezultacie:\n",
    "```\n",
    "[1,4,2,1,2,9,7,3,6]\n",
    "```\n",
    "### *Zadanie 3*\n",
    "Dane są listy:\n",
    "```\n",
    "l1 = [\"kot\", \"pies\", \"królik\"]\n",
    "l2 = [\"nie mam\", \"mam\", \"mam\", \"mam\", \"nie mam\"]\n",
    "```\n",
    "Napisz dict comprehension, które elementom `l1` przypisze elementy `l2` tak, by ze słownika wynikało, że ma się wszystkie 3 zwierzęta.\n",
    "\n",
    "{\"kot\": \"mam\", \"pies\": \"mam\", \"królik\": \"mam\"}"
   ]
  }
 ],
 "metadata": {
  "kernelspec": {
   "display_name": "Python 3 (ipykernel)",
   "language": "python",
   "name": "python3"
  },
  "language_info": {
   "codemirror_mode": {
    "name": "ipython",
    "version": 3
   },
   "file_extension": ".py",
   "mimetype": "text/x-python",
   "name": "python",
   "nbconvert_exporter": "python",
   "pygments_lexer": "ipython3",
   "version": "3.11.4"
  }
 },
 "nbformat": 4,
 "nbformat_minor": 5
}
