{
 "cells": [
  {
   "cell_type": "markdown",
   "id": "c691ab11",
   "metadata": {},
   "source": [
    "# Moduły, pakiety i paczkowanie oprogramowania\n",
    "\n",
    "## System importów\n",
    "Moduły biblioteczene stają się dostępne, gdy się je zaimportuje:"
   ]
  },
  {
   "cell_type": "code",
   "execution_count": null,
   "id": "93774d7d",
   "metadata": {},
   "outputs": [],
   "source": [
    "import functools\n",
    "functools.reduce(lambda x, y: x + y, [1,2,3,4,5,6,7,8,9,10], 100)"
   ]
  },
  {
   "cell_type": "markdown",
   "id": "3588f45e",
   "metadata": {},
   "source": [
    "Można importować całe moduły i posługiwać się nimi prefiksując nazwy w nich zawarte nazwą modułu (jak wyżej), lub importować te nazwy do głównej przestrzeni nazw selektywnie - należy wówczas uważać na potencjalne konflikty!"
   ]
  },
  {
   "cell_type": "code",
   "execution_count": null,
   "id": "b0db75d7",
   "metadata": {},
   "outputs": [],
   "source": [
    "from functools import reduce\n",
    "reduce(lambda x, y: x + y, [1,2,3,4,5,6,7,8,9,10], 100)"
   ]
  },
  {
   "cell_type": "markdown",
   "id": "cb1df2a6",
   "metadata": {},
   "source": [
    "Modułom można nadawać aliasy - przydatne np.: gdy chcemy unikać konfliktu nazw i pisać trochę mniej znaków:"
   ]
  },
  {
   "cell_type": "code",
   "execution_count": null,
   "id": "5d79b07e",
   "metadata": {},
   "outputs": [],
   "source": [
    "import functools as ftools\n",
    "ftools.reduce(lambda x, y: x + y, [1,2,3,4,5,6,7,8,9,10], 100)"
   ]
  },
  {
   "cell_type": "markdown",
   "id": "c198e5fe",
   "metadata": {},
   "source": [
    "## Co się dzieje, gdy Python interpretuje `import mod`\n",
    "1. Najpierw szuka pliku `mod.py` w katalogu z którego uruchomiony był skrypt lub aktualny katalog z którego uruchomiony został tryb interaktywny\n",
    "2. Następnie jeśli ustawiona jest zmienna `$PYTHONPATH` to po kolei przeszukiwane są kolejne katalogi tam wymienione (w fomacie analogicznym jak `$PATH`)\n",
    "3. Na końcu przeszukiwane są katalogi systemowe, wybrane podczas instalacji Pythona\n",
    "\n",
    "W razie wątpliwości, można przyjrzeć się zmiennej `path` z modułu `sys`:"
   ]
  },
  {
   "cell_type": "code",
   "execution_count": null,
   "id": "26121e66",
   "metadata": {},
   "outputs": [],
   "source": [
    "import sys\n",
    "sys.path"
   ]
  },
  {
   "cell_type": "markdown",
   "id": "3a45e324",
   "metadata": {},
   "source": [
    "W związku z tym, gdy zrobimy własny moduł `my_mod`, należy go umieścić w jednym z w/w miejsc, a jeśli to konieczne zmodyfikować `$PYTHONPATH` (z powłoki, z której odpalamy Pythona lub programatycznie przez `sys.path.append(...)`), tak by zawierał katalog, w którym znajduje się plik `my_mod.py`\n",
    "\n",
    "Każdy moduł ma swoją tablicę symboli, więc samo użycie `import mod` nie oznacza dodania występujących tam nazw do aktualnego namespace'a. Aby zobaczyć lokalną tablicę symboli i zrozumieć co dzieje się z nią w przypadku importowania modułów na różne sposoby, można wykorzystać funkcję `dir`:"
   ]
  },
  {
   "cell_type": "code",
   "execution_count": null,
   "id": "867c7311",
   "metadata": {},
   "outputs": [],
   "source": [
    "import abc\n",
    "dir(abc)"
   ]
  },
  {
   "cell_type": "markdown",
   "id": "03db17a6",
   "metadata": {},
   "source": [
    "## Moduły\n",
    "Każdy plik Pythona o rozszerzeniu `*.py`, zawierający kod jest modułem, który można zazwyczaj zaimportować używając nazwy pliku - np.: mając swój kod w pliku `bulbulator.py`, importujemy w innym pliku zdefiniowane w nim nazwy przy użyciu `import bulbulator`. Wszelkie definicje i kod wykonywalny zostaną zinterpretowane raz - w momencie, gdy moduł jest importowany. Jeśli chcemy wykonać kod zawarty w module jeszcze raz, mamy do dyspozycji bibliotekę `importlib`:"
   ]
  },
  {
   "cell_type": "code",
   "execution_count": null,
   "id": "e469815a",
   "metadata": {},
   "outputs": [],
   "source": [
    "import importlib\n",
    "\n",
    "importlib.reload(sys)"
   ]
  },
  {
   "cell_type": "markdown",
   "id": "440af9b4",
   "metadata": {},
   "source": [
    "Moduły posiadają specjalną zmienną zmienną `__name__`, przechowującą ich nazwę:"
   ]
  },
  {
   "cell_type": "code",
   "execution_count": null,
   "id": "8f8bcf95",
   "metadata": {},
   "outputs": [],
   "source": [
    "import itertools\n",
    "itertools.__name__"
   ]
  },
  {
   "cell_type": "markdown",
   "id": "576b4c3f",
   "metadata": {},
   "source": [
    "Możliwe jest też wykonanie modułu jako skryptu - wystarczy wykonać polecenie:\n",
    "\n",
    "```\n",
    "python3 mój_moduł.py\n",
    "```\n",
    "\n",
    "Wówczas wszystkie znajdujące się na najwyższym poziomie zmienne i wywołania funkcji zostaną wyliczone, a zmienna `__name__` przybierze specjalną wartość `__main__`. Ten ostatni fakt jest wykorzystywany gdy tworzymy aplikację mającą określony punkt wejśćia - zwykle zgodnie z konwencją plik zawierający Pythonowy odpowiednik funkcji `main` znanej np.: z C i Javy zawiera następującą konstrukcję:\n",
    "\n",
    "```\n",
    "\n",
    "def main():\n",
    "    ...\n",
    "\n",
    "if __name__ == \"__main__\":\n",
    "    main()\n",
    "```\n",
    "\n",
    "#### Argumenty z linii komend\n",
    "W przypadku gdy skrypt bierze dodatkowe argumenty są one dostępne przez specjalną zmienną `argv` modułu sys:"
   ]
  },
  {
   "cell_type": "code",
   "execution_count": null,
   "id": "d498a98a",
   "metadata": {},
   "outputs": [],
   "source": [
    "import sys\n",
    "\n",
    "def main():\n",
    "    for arg in sys.argv:\n",
    "        print(arg)\n",
    "\n",
    "if __name__ == \"__main__\":\n",
    "    main()"
   ]
  },
  {
   "cell_type": "markdown",
   "id": "a52c85ca",
   "metadata": {},
   "source": [
    "## Pakiety\n",
    "Pakiety (ang. *packages*) w Pythonie to po prostu katalogi zawierające moduły Pythona. Aby zaimportować moduły `mod1` i `mod2` z katalogu pkg możemy użyć jednego z poniższych sposobów:"
   ]
  },
  {
   "cell_type": "code",
   "execution_count": null,
   "id": "305d02f3",
   "metadata": {},
   "outputs": [],
   "source": [
    "from pkg import mod1, mod2\n",
    "\n",
    "mod1.foo()"
   ]
  },
  {
   "cell_type": "code",
   "execution_count": null,
   "id": "a110134e",
   "metadata": {},
   "outputs": [],
   "source": [
    "import pkg.mod1, pkg.mod2\n",
    "pkg.mod1.foo()"
   ]
  },
  {
   "cell_type": "code",
   "execution_count": null,
   "id": "8edaee75",
   "metadata": {},
   "outputs": [],
   "source": [
    "import pkg.mod1 as mod1\n",
    "import pkg.mod2 as mod2\n",
    "mod1.foo()"
   ]
  },
  {
   "cell_type": "code",
   "execution_count": null,
   "id": "0b5b617a",
   "metadata": {},
   "outputs": [],
   "source": [
    "from pkg import mod1 as mod1_alias\n",
    "from pkg import mod2 as mod2_alias\n",
    "\n",
    "mod1_alias.foo()"
   ]
  },
  {
   "cell_type": "code",
   "execution_count": null,
   "id": "159e7054",
   "metadata": {},
   "outputs": [],
   "source": [
    "from pkg.mod1 import foo\n",
    "\n",
    "foo()"
   ]
  },
  {
   "cell_type": "markdown",
   "id": "34458ca3",
   "metadata": {},
   "source": [
    "Można też użyć po prostu `import pkg`, jednak domyślnie ta opcja nie wprowadza do tablicy symboli żadnych nowych wpisów, chyba, że żądane moduły są explicite wymienione w pliku `__init__.py`.\n",
    "\n",
    "#### `__init__.py`\n",
    "Historycznie aby katalog był poprawnie rozpoznany jako pakiet musiał znajdować się w nim plik `__init__.py` - nawet pusty. Od czasu Pythona 3.3 tego wymagania nie ma (patrz [PEP-420](https://www.python.org/dev/peps/pep-0420/)), jednak jest to dobra praktyka w sytuacji gdy chcemy mieć kontrolę nad tym co dany pakiet eksportuje i co się dzieje gdy ktoś importuje moduły za pomocą `from pkg import *`. Wówczas w tym pliku umieszcza się listę `__all__` zawierającą wszystkie eksportowane nazwy:"
   ]
  },
  {
   "cell_type": "code",
   "execution_count": null,
   "id": "e01906f6",
   "metadata": {},
   "outputs": [],
   "source": [
    "__all__ = [\n",
    "        'mod1',\n",
    "        'mod2',\n",
    "        'mod3',\n",
    "        'mod4'\n",
    "        ]"
   ]
  },
  {
   "cell_type": "markdown",
   "id": "ebf04856",
   "metadata": {},
   "source": [
    "Pakiety mogą mieć subpakiety:\n",
    "\n",
    "```\n",
    "pkg/\n",
    "|\n",
    "|->sub_pkg1/\n",
    "|   |\n",
    "|   |->mod1.py\n",
    "|\n",
    "|->sub_pkg2\n",
    "    |\n",
    "    |->mod2.py\n",
    "```"
   ]
  },
  {
   "cell_type": "code",
   "execution_count": null,
   "id": "dda45558",
   "metadata": {},
   "outputs": [],
   "source": [
    "import pkg.sub_pkg1.mod1\n",
    "pkg.sub_pkg.mod.foo()"
   ]
  },
  {
   "cell_type": "code",
   "execution_count": null,
   "id": "ed524372",
   "metadata": {},
   "outputs": [],
   "source": [
    "from pkg.sub_pkg1 import mod1\n",
    "mod.foo()"
   ]
  },
  {
   "cell_type": "code",
   "execution_count": null,
   "id": "f19e3585",
   "metadata": {},
   "outputs": [],
   "source": [
    "from pkg.sub_pkg1.mod1 import foo\n",
    "\n",
    "foo()"
   ]
  },
  {
   "cell_type": "markdown",
   "id": "2842c0d3",
   "metadata": {},
   "source": [
    "Importy mogą być też relatywne:"
   ]
  },
  {
   "cell_type": "code",
   "execution_count": null,
   "id": "9b91e407",
   "metadata": {},
   "outputs": [],
   "source": [
    "from ..sub_pkg2 import mod2"
   ]
  },
  {
   "cell_type": "markdown",
   "id": "f6571576",
   "metadata": {},
   "source": [
    "## Instalacja i używanie zewnętrznych bibliotek\n",
    "Wokół Pythona istnieje bogaty ekosystem bibliotek i frameworków, które są dostępne w centralnym repozytorium pakietów pod adresem `http://pypi.org`. Aby zainstalować odpowiednie pakiety, można skorzystać z narzędzia `pip`, np.:\n",
    "```\n",
    "pip install flask\n",
    "```\n",
    "\n",
    "pip automatycznie ściągnie i rozpakuje paczkę z pypi, a nastepnie umieści ją albo w systemowym katalogu (można go znaleźć w `$PYTHONPATH` przy użyciu `python -c \"import sys; print(sys.path)\"` albo w wirtualnym środowisku (utworzonym albo `virtualenv`, albo modułem `venv`).\n",
    "\n",
    "### `requirements.txt`\n",
    "Standardowo, aplikacje pythonowe dystrybuuje się wraz z plikiem zawierającym listę zależności i ich wersji, wymaganych przez aplikację. Ma ona następujący format:\n",
    "\n",
    "```\n",
    "<nazwa pakietu>==<wersja>\n",
    "```\n",
    "\n",
    "np.:\n",
    "```\n",
    "flask>=2.0.1\n",
    "```\n",
    "\n",
    "Możliwe jest używanie znaków `<=`, `>=` etc. jeśli nie zależy nam na konkrentnej wersji, a jedynie np.: wersji nie starszej niż- lub nie nowszej niż- określona. Dobrą praktyką jest jednak przypinanie konkretnej wersji i używanie pip-tools do generowania requirements.txt.\n",
    "\n",
    "Instalacja pakietów z listy możliwa jest poleceniem:\n",
    "```\n",
    "pip install -r requirements.txt\n",
    "```\n",
    "\n",
    "### `requirements.in` i `pip-tools`\n",
    "Przypięte na stałe wersje pakietów są dobre z punktu widzenia powtarzalności konfiguracji - mamy pewność, że nasza aplikacja będzie używała tych samych paczek lokalnie, w CI i na produkcji. Idą za tym jednak pewne minusy - a konkretniej konieczność ręcznego znajdowania współpracujących wersji pakietów i niewygodne podbijanie ich do najnowszej wersji. Pomóc może uzycie `pip-tools`: zamiast gotowego pliku `requirements.txt`, możemy użyć pliku `requirements.in`, zawierającego listę pakietów bez przypiętych wersji (lub spełniających dużo luźniejsze ograniczenia). Następnie generujemy docelowy plik `requirements.txt` poleceniem:\n",
    "```\n",
    "pip-compile requirements.in --output-file requirements.txt\n",
    "```\n",
    "\n",
    "`pip-compile` automatycznie znajdzie najnowsze współgrające ze sobą wersje pakietów na `pypi`, a następnie zapisze je w `requirements.txt`. Od teraz, jeśli `requirements.txt` jest generowane lokalnie na maszynie developera, mamy wszystkie benefity zwiazane z powtarzalnością konfiguracji, jak również prostotę znajdowania odpowiednich wersji i ich aktualizacji. Aby podbić wersje pakietów można skorzystać z polecenia:\n",
    "\n",
    "```\n",
    "pip-compile --upgrade --output-file requirements.txt\n",
    "```\n",
    "\n",
    "Aby zainstalować znalezione i zahardkodowane w `requirements.txt` pakiety można użyć albo `pip install -r requirements.txt` albo `pip-sync requirements.txt`. W ten sposób otrzymujemy wygodny sposób zarządzania zależnościami naszej aplikacji - należy jednak przetestować działanie aplikacji z nowymi wersjami zależności!\n",
    "\n",
    "### *Zadanie*\n",
    "W sklonowanym repozytorium z zadaniem wykonaj: \n",
    "```\n",
    "git checkout task-0\n",
    "git checkout -b my-solution-0\n",
    "pip install virtualenv\n",
    "virtualenv <nazwa katalogu>\n",
    "source env/bin/activate # Linux\n",
    ".\\env\\Scripts\\activate # Windows\n",
    "\n",
    "alternatywnie\n",
    "python3.9 -m venv <nazwa katalogu>\n",
    "source env/bin/activate # Linux\n",
    ".\\env\\Scripts\\activate # Windows\n",
    "```\n",
    "\n",
    "a następnie:\n",
    "- [ ] zainstaluj pip-tools (`python -m pip install pip-tools`)\n",
    "- [ ] stwórz plik `requirements.in` zawierający w osobnych liniach `flask`, `click`, oraz `pytest`\n",
    "- [ ] uruchom `pip-compile requirements.in --output-file=requirements.txt` aby przypiać wersje pakietów\n",
    "- [ ] zainstaluj pakiety poleceniem `pip-sync`\n",
    "- [ ] scommituj oba pliki `requirements.*` na utworzonym przez siebie branchu repozytorium gitowego \n",
    "\n",
    "[SPOILER]: Aby podejrzeć stan repozytorium po wykonaniu ćwiczenia wykonaj polecenie `git checkout solution-0` - zauważ, że nie commituje się `virtualenv`'ów, tylko same pliki `requirements.*`!"
   ]
  }
 ],
 "metadata": {
  "kernelspec": {
   "display_name": "Python 3 (ipykernel)",
   "language": "python",
   "name": "python3"
  },
  "language_info": {
   "codemirror_mode": {
    "name": "ipython",
    "version": 3
   },
   "file_extension": ".py",
   "mimetype": "text/x-python",
   "name": "python",
   "nbconvert_exporter": "python",
   "pygments_lexer": "ipython3",
   "version": "3.10.0"
  }
 },
 "nbformat": 4,
 "nbformat_minor": 5
}
